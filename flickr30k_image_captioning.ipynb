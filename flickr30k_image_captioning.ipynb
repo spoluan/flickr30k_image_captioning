{
 "cells": [
  {
   "cell_type": "code",
   "execution_count": 1,
   "id": "1da9ccff",
   "metadata": {},
   "outputs": [
    {
     "name": "stdout",
     "output_type": "stream",
     "text": [
      "Sun Apr 30 19:33:33 2023       \n",
      "+---------------------------------------------------------------------------------------+\n",
      "| NVIDIA-SMI 530.30.02              Driver Version: 530.30.02    CUDA Version: 12.1     |\n",
      "|-----------------------------------------+----------------------+----------------------+\n",
      "| GPU  Name                  Persistence-M| Bus-Id        Disp.A | Volatile Uncorr. ECC |\n",
      "| Fan  Temp  Perf            Pwr:Usage/Cap|         Memory-Usage | GPU-Util  Compute M. |\n",
      "|                                         |                      |               MIG M. |\n",
      "|=========================================+======================+======================|\n",
      "|   0  NVIDIA GeForce RTX 3090         On | 00000000:65:00.0 Off |                  N/A |\n",
      "|  0%   45C    P2              144W / 390W|    825MiB / 24576MiB |      0%      Default |\n",
      "|                                         |                      |                  N/A |\n",
      "+-----------------------------------------+----------------------+----------------------+\n",
      "                                                                                         \n",
      "+---------------------------------------------------------------------------------------+\n",
      "| Processes:                                                                            |\n",
      "|  GPU   GI   CI        PID   Type   Process name                            GPU Memory |\n",
      "|        ID   ID                                                             Usage      |\n",
      "|=======================================================================================|\n",
      "+---------------------------------------------------------------------------------------+\n"
     ]
    }
   ],
   "source": [
    "!nvidia-smi"
   ]
  },
  {
   "cell_type": "markdown",
   "id": "d9137d40",
   "metadata": {},
   "source": [
    "# (1) Import the necessary libraries"
   ]
  },
  {
   "cell_type": "code",
   "execution_count": 2,
   "id": "2f31cf56",
   "metadata": {},
   "outputs": [
    {
     "name": "stderr",
     "output_type": "stream",
     "text": [
      "2023-04-30 17:01:52.817634: I tensorflow/core/util/port.cc:110] oneDNN custom operations are on. You may see slightly different numerical results due to floating-point round-off errors from different computation orders. To turn them off, set the environment variable `TF_ENABLE_ONEDNN_OPTS=0`.\n",
      "2023-04-30 17:01:52.855169: I tensorflow/core/platform/cpu_feature_guard.cc:182] This TensorFlow binary is optimized to use available CPU instructions in performance-critical operations.\n",
      "To enable the following instructions: AVX2 AVX512F AVX512_VNNI FMA, in other operations, rebuild TensorFlow with the appropriate compiler flags.\n"
     ]
    }
   ],
   "source": [
    "import glob\n",
    "import pandas as pd\n",
    "import tensorflow as tf\n",
    "import numpy as np\n",
    "import re\n",
    "import time\n",
    "import os\n",
    "import tensorflow_hub as hub\n",
    "from transformers import BertTokenizer, TFBertModel"
   ]
  },
  {
   "cell_type": "markdown",
   "id": "3fb54685",
   "metadata": {},
   "source": [
    "# (2) Download the datasets"
   ]
  },
  {
   "cell_type": "markdown",
   "id": "521f5f7c",
   "metadata": {},
   "source": [
    "### You can download the datasets from https://www.kaggle.com/datasets/hsankesara/flickr-image-dataset"
   ]
  },
  {
   "cell_type": "code",
   "execution_count": 80,
   "id": "7d321370",
   "metadata": {
    "scrolled": false
   },
   "outputs": [
    {
     "name": "stdout",
     "output_type": "stream",
     "text": [
      "flickr30k_images  results.csv\r\n"
     ]
    }
   ],
   "source": [
    "!ls datasets/flickr30k_images"
   ]
  },
  {
   "cell_type": "markdown",
   "id": "48996678",
   "metadata": {},
   "source": [
    "# (3) Prepare the datasets"
   ]
  },
  {
   "cell_type": "code",
   "execution_count": 76,
   "id": "b55050e1",
   "metadata": {},
   "outputs": [],
   "source": [
    "captioning_ds = pd.read_csv(\"datasets/flickr30k_images/results.csv\", delimiter=\"|\").sample(frac=1)"
   ]
  },
  {
   "cell_type": "code",
   "execution_count": 77,
   "id": "47ac1edf",
   "metadata": {},
   "outputs": [],
   "source": [
    "PERCENTAGE = int(captioning_ds.shape[0] * 0.8)\n",
    "TOTAL_DATA = int(captioning_ds.shape[0])"
   ]
  },
  {
   "cell_type": "code",
   "execution_count": 78,
   "id": "672df634",
   "metadata": {},
   "outputs": [],
   "source": [
    "train_data = captioning_ds.head(PERCENTAGE)\n",
    "test_data = captioning_ds.tail(TOTAL_DATA - PERCENTAGE)"
   ]
  },
  {
   "cell_type": "code",
   "execution_count": 79,
   "id": "d1c8dfc5",
   "metadata": {},
   "outputs": [
    {
     "data": {
      "text/plain": [
       "((127132, 3), (31783, 3), 158915, 158915)"
      ]
     },
     "execution_count": 79,
     "metadata": {},
     "output_type": "execute_result"
    }
   ],
   "source": [
    "train_data.shape, test_data.shape, (train_data.shape[0] + test_data.shape[0]), TOTAL_DATA"
   ]
  },
  {
   "cell_type": "code",
   "execution_count": 80,
   "id": "25f4d581",
   "metadata": {
    "scrolled": true
   },
   "outputs": [
    {
     "data": {
      "text/html": [
       "<div>\n",
       "<style scoped>\n",
       "    .dataframe tbody tr th:only-of-type {\n",
       "        vertical-align: middle;\n",
       "    }\n",
       "\n",
       "    .dataframe tbody tr th {\n",
       "        vertical-align: top;\n",
       "    }\n",
       "\n",
       "    .dataframe thead th {\n",
       "        text-align: right;\n",
       "    }\n",
       "</style>\n",
       "<table border=\"1\" class=\"dataframe\">\n",
       "  <thead>\n",
       "    <tr style=\"text-align: right;\">\n",
       "      <th></th>\n",
       "      <th>image_name</th>\n",
       "      <th>comment_number</th>\n",
       "      <th>comment</th>\n",
       "    </tr>\n",
       "  </thead>\n",
       "  <tbody>\n",
       "    <tr>\n",
       "      <th>62881</th>\n",
       "      <td>3259228898.jpg</td>\n",
       "      <td>1</td>\n",
       "      <td>A man is kneeling in the top step while many ...</td>\n",
       "    </tr>\n",
       "    <tr>\n",
       "      <th>129716</th>\n",
       "      <td>499732144.jpg</td>\n",
       "      <td>1</td>\n",
       "      <td>a young boy in jeans and a blue shirt is wear...</td>\n",
       "    </tr>\n",
       "    <tr>\n",
       "      <th>81717</th>\n",
       "      <td>3681651647.jpg</td>\n",
       "      <td>2</td>\n",
       "      <td>People in red and black clothing are walking ...</td>\n",
       "    </tr>\n",
       "    <tr>\n",
       "      <th>13705</th>\n",
       "      <td>1916798494.jpg</td>\n",
       "      <td>0</td>\n",
       "      <td>A number of people are sitting in blue chairs...</td>\n",
       "    </tr>\n",
       "    <tr>\n",
       "      <th>148240</th>\n",
       "      <td>7007352148.jpg</td>\n",
       "      <td>0</td>\n",
       "      <td>A nicely dressed woman putting a handful of c...</td>\n",
       "    </tr>\n",
       "    <tr>\n",
       "      <th>87990</th>\n",
       "      <td>390899292.jpg</td>\n",
       "      <td>0</td>\n",
       "      <td>Two girls are conversing in front of some oth...</td>\n",
       "    </tr>\n",
       "    <tr>\n",
       "      <th>41990</th>\n",
       "      <td>2751466788.jpg</td>\n",
       "      <td>0</td>\n",
       "      <td>The man in the purple shirt is walking toward...</td>\n",
       "    </tr>\n",
       "    <tr>\n",
       "      <th>49462</th>\n",
       "      <td>2938181762.jpg</td>\n",
       "      <td>2</td>\n",
       "      <td>A person is walking near a fountain .</td>\n",
       "    </tr>\n",
       "    <tr>\n",
       "      <th>110740</th>\n",
       "      <td>468610158.jpg</td>\n",
       "      <td>0</td>\n",
       "      <td>A group of adults and children in scout unifo...</td>\n",
       "    </tr>\n",
       "    <tr>\n",
       "      <th>106082</th>\n",
       "      <td>4602993681.jpg</td>\n",
       "      <td>2</td>\n",
       "      <td>A black girl looking blankly with vases in th...</td>\n",
       "    </tr>\n",
       "  </tbody>\n",
       "</table>\n",
       "</div>"
      ],
      "text/plain": [
       "            image_name  comment_number   \n",
       "62881   3259228898.jpg               1  \\\n",
       "129716   499732144.jpg               1   \n",
       "81717   3681651647.jpg               2   \n",
       "13705   1916798494.jpg               0   \n",
       "148240  7007352148.jpg               0   \n",
       "87990    390899292.jpg               0   \n",
       "41990   2751466788.jpg               0   \n",
       "49462   2938181762.jpg               2   \n",
       "110740   468610158.jpg               0   \n",
       "106082  4602993681.jpg               2   \n",
       "\n",
       "                                                  comment  \n",
       "62881    A man is kneeling in the top step while many ...  \n",
       "129716   a young boy in jeans and a blue shirt is wear...  \n",
       "81717    People in red and black clothing are walking ...  \n",
       "13705    A number of people are sitting in blue chairs...  \n",
       "148240   A nicely dressed woman putting a handful of c...  \n",
       "87990    Two girls are conversing in front of some oth...  \n",
       "41990    The man in the purple shirt is walking toward...  \n",
       "49462               A person is walking near a fountain .  \n",
       "110740   A group of adults and children in scout unifo...  \n",
       "106082   A black girl looking blankly with vases in th...  "
      ]
     },
     "execution_count": 80,
     "metadata": {},
     "output_type": "execute_result"
    }
   ],
   "source": [
    "train_data.head(10)"
   ]
  },
  {
   "cell_type": "markdown",
   "id": "8dce27c5",
   "metadata": {},
   "source": [
    "Use regex to remove some symbols and punctuation"
   ]
  },
  {
   "cell_type": "code",
   "execution_count": 82,
   "id": "2c44e80a",
   "metadata": {},
   "outputs": [],
   "source": [
    "def func(row):\n",
    "    comment = str(row[2]).lower()\n",
    "    comment = ' ' . join(re.findall(r\"[a-z0-9]+\", comment))\n",
    "    comment = re.sub(r\"\\s\", \" \", comment) # replace any multiple spaces\n",
    "    return {\"image_name\": row[0], \"comment\": comment}"
   ]
  },
  {
   "cell_type": "code",
   "execution_count": 83,
   "id": "5b39cd76",
   "metadata": {},
   "outputs": [],
   "source": [
    "train_cleaned = pd.DataFrame(dict(train_data.apply(func, axis=1))).transpose()\n",
    "test_cleaned = pd.DataFrame(dict(test_data.apply(func, axis=1))).transpose()"
   ]
  },
  {
   "cell_type": "code",
   "execution_count": 85,
   "id": "3ffa464b",
   "metadata": {},
   "outputs": [
    {
     "data": {
      "text/html": [
       "<div>\n",
       "<style scoped>\n",
       "    .dataframe tbody tr th:only-of-type {\n",
       "        vertical-align: middle;\n",
       "    }\n",
       "\n",
       "    .dataframe tbody tr th {\n",
       "        vertical-align: top;\n",
       "    }\n",
       "\n",
       "    .dataframe thead th {\n",
       "        text-align: right;\n",
       "    }\n",
       "</style>\n",
       "<table border=\"1\" class=\"dataframe\">\n",
       "  <thead>\n",
       "    <tr style=\"text-align: right;\">\n",
       "      <th></th>\n",
       "      <th>image_name</th>\n",
       "      <th>comment</th>\n",
       "    </tr>\n",
       "  </thead>\n",
       "  <tbody>\n",
       "    <tr>\n",
       "      <th>62881</th>\n",
       "      <td>3259228898.jpg</td>\n",
       "      <td>a man is kneeling in the top step while many p...</td>\n",
       "    </tr>\n",
       "    <tr>\n",
       "      <th>129716</th>\n",
       "      <td>499732144.jpg</td>\n",
       "      <td>a young boy in jeans and a blue shirt is weari...</td>\n",
       "    </tr>\n",
       "    <tr>\n",
       "      <th>81717</th>\n",
       "      <td>3681651647.jpg</td>\n",
       "      <td>people in red and black clothing are walking i...</td>\n",
       "    </tr>\n",
       "  </tbody>\n",
       "</table>\n",
       "</div>"
      ],
      "text/plain": [
       "            image_name                                            comment\n",
       "62881   3259228898.jpg  a man is kneeling in the top step while many p...\n",
       "129716   499732144.jpg  a young boy in jeans and a blue shirt is weari...\n",
       "81717   3681651647.jpg  people in red and black clothing are walking i..."
      ]
     },
     "execution_count": 85,
     "metadata": {},
     "output_type": "execute_result"
    }
   ],
   "source": [
    "train_cleaned.head(3)"
   ]
  },
  {
   "cell_type": "markdown",
   "id": "4a728227",
   "metadata": {},
   "source": [
    "Create multigrams for all the comments"
   ]
  },
  {
   "cell_type": "code",
   "execution_count": 8,
   "id": "a7d846e8",
   "metadata": {},
   "outputs": [
    {
     "name": "stdout",
     "output_type": "stream",
     "text": [
      "Start processing ...\n",
      "Processing time: 0.2571189273148775 seconds\n"
     ]
    }
   ],
   "source": [
    "start_time = time.perf_counter()\n",
    "print(\"Start processing ...\")\n",
    "complete_sets = []\n",
    "for index, row in captionaing_cleaned.iterrows():\n",
    "    comment_split = str(\"[CLS] \" + row.comment + \" [SEP]\") . split() # Add special tokens to mark the beginning and end of the text\n",
    "    for ind in range(1, len(comment_split)):\n",
    "        complete_sets.append({\n",
    "            \"image_name\": os.path.join(\"datasets/flickr30k_images/flickr30k_images\", row.image_name), \n",
    "            \"comment\": ' ' . join(comment_split[:ind]),\n",
    "            \"target\": comment_split[ind]\n",
    "        })\n",
    "end_time = time.perf_counter()\n",
    "print(f\"Processing time: {end_time - start_time} seconds\")"
   ]
  },
  {
   "cell_type": "code",
   "execution_count": 9,
   "id": "29309f13",
   "metadata": {},
   "outputs": [],
   "source": [
    "complete_sets_pd = pd.DataFrame(complete_sets)"
   ]
  },
  {
   "cell_type": "markdown",
   "id": "4e6f584f",
   "metadata": {},
   "source": [
    "So for each image we need to create an n-grams that would probably be the next prediction words to the model"
   ]
  },
  {
   "cell_type": "code",
   "execution_count": 10,
   "id": "d890400d",
   "metadata": {
    "scrolled": true
   },
   "outputs": [
    {
     "data": {
      "text/html": [
       "<div>\n",
       "<style scoped>\n",
       "    .dataframe tbody tr th:only-of-type {\n",
       "        vertical-align: middle;\n",
       "    }\n",
       "\n",
       "    .dataframe tbody tr th {\n",
       "        vertical-align: top;\n",
       "    }\n",
       "\n",
       "    .dataframe thead th {\n",
       "        text-align: right;\n",
       "    }\n",
       "</style>\n",
       "<table border=\"1\" class=\"dataframe\">\n",
       "  <thead>\n",
       "    <tr style=\"text-align: right;\">\n",
       "      <th></th>\n",
       "      <th>image_name</th>\n",
       "      <th>comment</th>\n",
       "      <th>target</th>\n",
       "    </tr>\n",
       "  </thead>\n",
       "  <tbody>\n",
       "    <tr>\n",
       "      <th>0</th>\n",
       "      <td>datasets/flickr30k_images/flickr30k_images/100...</td>\n",
       "      <td>[CLS]</td>\n",
       "      <td>two</td>\n",
       "    </tr>\n",
       "    <tr>\n",
       "      <th>1</th>\n",
       "      <td>datasets/flickr30k_images/flickr30k_images/100...</td>\n",
       "      <td>[CLS] two</td>\n",
       "      <td>young</td>\n",
       "    </tr>\n",
       "    <tr>\n",
       "      <th>2</th>\n",
       "      <td>datasets/flickr30k_images/flickr30k_images/100...</td>\n",
       "      <td>[CLS] two young</td>\n",
       "      <td>guys</td>\n",
       "    </tr>\n",
       "    <tr>\n",
       "      <th>3</th>\n",
       "      <td>datasets/flickr30k_images/flickr30k_images/100...</td>\n",
       "      <td>[CLS] two young guys</td>\n",
       "      <td>with</td>\n",
       "    </tr>\n",
       "    <tr>\n",
       "      <th>4</th>\n",
       "      <td>datasets/flickr30k_images/flickr30k_images/100...</td>\n",
       "      <td>[CLS] two young guys with</td>\n",
       "      <td>shaggy</td>\n",
       "    </tr>\n",
       "    <tr>\n",
       "      <th>5</th>\n",
       "      <td>datasets/flickr30k_images/flickr30k_images/100...</td>\n",
       "      <td>[CLS] two young guys with shaggy</td>\n",
       "      <td>hair</td>\n",
       "    </tr>\n",
       "    <tr>\n",
       "      <th>6</th>\n",
       "      <td>datasets/flickr30k_images/flickr30k_images/100...</td>\n",
       "      <td>[CLS] two young guys with shaggy hair</td>\n",
       "      <td>look</td>\n",
       "    </tr>\n",
       "    <tr>\n",
       "      <th>7</th>\n",
       "      <td>datasets/flickr30k_images/flickr30k_images/100...</td>\n",
       "      <td>[CLS] two young guys with shaggy hair look</td>\n",
       "      <td>at</td>\n",
       "    </tr>\n",
       "    <tr>\n",
       "      <th>8</th>\n",
       "      <td>datasets/flickr30k_images/flickr30k_images/100...</td>\n",
       "      <td>[CLS] two young guys with shaggy hair look at</td>\n",
       "      <td>their</td>\n",
       "    </tr>\n",
       "    <tr>\n",
       "      <th>9</th>\n",
       "      <td>datasets/flickr30k_images/flickr30k_images/100...</td>\n",
       "      <td>[CLS] two young guys with shaggy hair look at ...</td>\n",
       "      <td>hands</td>\n",
       "    </tr>\n",
       "  </tbody>\n",
       "</table>\n",
       "</div>"
      ],
      "text/plain": [
       "                                          image_name   \n",
       "0  datasets/flickr30k_images/flickr30k_images/100...  \\\n",
       "1  datasets/flickr30k_images/flickr30k_images/100...   \n",
       "2  datasets/flickr30k_images/flickr30k_images/100...   \n",
       "3  datasets/flickr30k_images/flickr30k_images/100...   \n",
       "4  datasets/flickr30k_images/flickr30k_images/100...   \n",
       "5  datasets/flickr30k_images/flickr30k_images/100...   \n",
       "6  datasets/flickr30k_images/flickr30k_images/100...   \n",
       "7  datasets/flickr30k_images/flickr30k_images/100...   \n",
       "8  datasets/flickr30k_images/flickr30k_images/100...   \n",
       "9  datasets/flickr30k_images/flickr30k_images/100...   \n",
       "\n",
       "                                             comment  target  \n",
       "0                                              [CLS]     two  \n",
       "1                                          [CLS] two   young  \n",
       "2                                    [CLS] two young    guys  \n",
       "3                               [CLS] two young guys    with  \n",
       "4                          [CLS] two young guys with  shaggy  \n",
       "5                   [CLS] two young guys with shaggy    hair  \n",
       "6              [CLS] two young guys with shaggy hair    look  \n",
       "7         [CLS] two young guys with shaggy hair look      at  \n",
       "8      [CLS] two young guys with shaggy hair look at   their  \n",
       "9  [CLS] two young guys with shaggy hair look at ...   hands  "
      ]
     },
     "execution_count": 10,
     "metadata": {},
     "output_type": "execute_result"
    }
   ],
   "source": [
    "complete_sets_pd.head(10)"
   ]
  },
  {
   "cell_type": "markdown",
   "id": "f5e623ee",
   "metadata": {},
   "source": [
    "# (4) Create text tokenizer and download the pretrained bertmodel for text preprocessing\n",
    "\n",
    "Here i'll use the pretrained from bert model"
   ]
  },
  {
   "cell_type": "code",
   "execution_count": 11,
   "id": "24c0926f",
   "metadata": {},
   "outputs": [
    {
     "name": "stderr",
     "output_type": "stream",
     "text": [
      "2023-04-30 17:02:20.267330: I tensorflow/core/common_runtime/gpu/gpu_device.cc:1635] Created device /job:localhost/replica:0/task:0/device:GPU:0 with 21613 MB memory:  -> device: 0, name: NVIDIA GeForce RTX 3090, pci bus id: 0000:65:00.0, compute capability: 8.6\n",
      "2023-04-30 17:02:21.390720: I tensorflow/compiler/xla/stream_executor/cuda/cuda_blas.cc:637] TensorFloat-32 will be used for the matrix multiplication. This will only be logged once.\n",
      "Some layers from the model checkpoint at bert-base-uncased were not used when initializing TFBertModel: ['mlm___cls', 'nsp___cls']\n",
      "- This IS expected if you are initializing TFBertModel from the checkpoint of a model trained on another task or with another architecture (e.g. initializing a BertForSequenceClassification model from a BertForPreTraining model).\n",
      "- This IS NOT expected if you are initializing TFBertModel from the checkpoint of a model that you expect to be exactly identical (initializing a BertForSequenceClassification model from a BertForSequenceClassification model).\n",
      "All the layers of TFBertModel were initialized from the model checkpoint at bert-base-uncased.\n",
      "If your task is similar to the task the model of the checkpoint was trained on, you can already use TFBertModel for predictions without further training.\n"
     ]
    }
   ],
   "source": [
    "tokenizer = BertTokenizer.from_pretrained('bert-base-uncased')\n",
    "bert_model = TFBertModel.from_pretrained('bert-base-uncased')\n",
    "bert_model.trainable = False"
   ]
  },
  {
   "cell_type": "code",
   "execution_count": 42,
   "id": "310eba48",
   "metadata": {
    "scrolled": false
   },
   "outputs": [
    {
     "data": {
      "text/plain": [
       "[101,\n",
       " 2048,\n",
       " 2402,\n",
       " 4364,\n",
       " 2007,\n",
       " 25741,\n",
       " 2606,\n",
       " 2298,\n",
       " 2012,\n",
       " 2037,\n",
       " 2398,\n",
       " 2096,\n",
       " 5689,\n",
       " 2041,\n",
       " 1999,\n",
       " 1996,\n",
       " 4220,\n",
       " 102]"
      ]
     },
     "execution_count": 42,
     "metadata": {},
     "output_type": "execute_result"
    }
   ],
   "source": [
    "tokenizer.encode(captionaing_cleaned.comment[0])"
   ]
  },
  {
   "cell_type": "code",
   "execution_count": 10,
   "id": "192dc2de",
   "metadata": {
    "scrolled": true
   },
   "outputs": [
    {
     "data": {
      "text/plain": [
       "100"
      ]
     },
     "execution_count": 10,
     "metadata": {},
     "output_type": "execute_result"
    }
   ],
   "source": [
    "tokenizer.convert_tokens_to_ids('[UNK]')"
   ]
  },
  {
   "cell_type": "markdown",
   "id": "a42b8390",
   "metadata": {},
   "source": [
    "# (4) Create a data loader for our image"
   ]
  },
  {
   "cell_type": "code",
   "execution_count": 12,
   "id": "a415891c",
   "metadata": {},
   "outputs": [],
   "source": [
    "IMG_SIZE = [244, 244]"
   ]
  },
  {
   "cell_type": "markdown",
   "id": "6b6a62b6",
   "metadata": {},
   "source": [
    "Find the longest available sequence in the datasets"
   ]
  },
  {
   "cell_type": "code",
   "execution_count": 48,
   "id": "750b60a4",
   "metadata": {
    "scrolled": true
   },
   "outputs": [
    {
     "data": {
      "text/plain": [
       "49"
      ]
     },
     "execution_count": 48,
     "metadata": {},
     "output_type": "execute_result"
    }
   ],
   "source": [
    "MAX_SEQ_LEN = max([len(x.split()) for x in captionaing_cleaned.comment])\n",
    "MAX_SEQ_LEN"
   ]
  },
  {
   "cell_type": "markdown",
   "id": "487fc7ed",
   "metadata": {},
   "source": [
    "The method i commend below doesn't support to return values with some custom shapes and data type"
   ]
  },
  {
   "cell_type": "code",
   "execution_count": 763,
   "id": "b42cf295",
   "metadata": {},
   "outputs": [],
   "source": [
    "# def data_loader(image_path, comment, target): \n",
    "    \n",
    "#     image = tf.io.read_file(image_path)\n",
    "#     image = tf.image.decode_jpeg(image) \n",
    "#     image = tf.image.resize(image, IMG_SIZE)\n",
    "#     image = tf.keras.applications.resnet.preprocess_input(image) # preprocess the image with resnet preprocessing\n",
    "    \n",
    "#     # Tokenize the text\n",
    "#     comment = tokenizer.encode_plus(\n",
    "#         comment.numpy().decode(\"utf-8\"), \n",
    "#         max_length=MAX_SEQ_LEN, \n",
    "#         truncation=True, \n",
    "#         padding='max_length', \n",
    "#         add_special_tokens=True,\n",
    "#         return_attention_mask=True, \n",
    "#         return_token_type_ids=False, \n",
    "#         return_tensors='tf'\n",
    "#     )\n",
    "     \n",
    "#     caption_emb = bert_model(comment['input_ids'], comment['attention_mask'])[0]\n",
    "#     target = tokenizer.encode(target.numpy().decode(\"utf-8\"), add_special_tokens=False) # take the second index because first and last index will be the [CLS] and [SEP]\n",
    "      \n",
    "#     return (image, caption_emb), target # issues are here"
   ]
  },
  {
   "cell_type": "code",
   "execution_count": 745,
   "id": "dedfadf4",
   "metadata": {},
   "outputs": [],
   "source": [
    "# train = train_ds.map(lambda row: tf.py_function(\n",
    "#     func=data_loader,\n",
    "#     inp=[row[0], row[1], row[2]],\n",
    "#     Tout=[(tf.float32, tf.float32), tf.int32]\n",
    "# ), num_parallel_calls=tf.data.AUTOTUNE).prefetch(tf.data.AUTOTUNE).batch(BATCH_SIZE)"
   ]
  },
  {
   "cell_type": "code",
   "execution_count": 49,
   "id": "49149b54",
   "metadata": {},
   "outputs": [],
   "source": [
    "def data_generator(image_paths, comments, targets): \n",
    "    while True:\n",
    "        for i in range(len(image_paths)):\n",
    "            image = tf.io.read_file(image_paths[i])\n",
    "            image = tf.image.decode_jpeg(image) \n",
    "            image = tf.image.resize(image, IMG_SIZE) \n",
    "\n",
    "            comment = tokenizer.encode_plus(\n",
    "                comments[i].decode(\"utf-8\"),\n",
    "                max_length=MAX_SEQ_LEN,\n",
    "                truncation=True,\n",
    "                padding='max_length',\n",
    "                add_special_tokens=True,\n",
    "                return_attention_mask=True,\n",
    "                return_token_type_ids=False,\n",
    "                return_tensors='tf'\n",
    "            )\n",
    "            caption_emb = bert_model(comment['input_ids'], comment['attention_mask'])[1]\n",
    "            caption_emb = tf.squeeze(caption_emb, axis=0)\n",
    "\n",
    "            target = tokenizer.encode(targets[i].decode(\"utf-8\"), add_special_tokens=False)\n",
    "\n",
    "            try: \n",
    "                if len(target) == 1: \n",
    "                    yield (image, caption_emb), target\n",
    "                else:\n",
    "                    # print(target, len(target))\n",
    "                    yield (image, caption_emb), [target[0]] # to prevent the encoded target sometimes will generate 2 ids\n",
    "            except:\n",
    "                print(target, len(target))"
   ]
  },
  {
   "cell_type": "code",
   "execution_count": 50,
   "id": "77dfbfdf",
   "metadata": {},
   "outputs": [
    {
     "data": {
      "text/plain": [
       "[2437]"
      ]
     },
     "execution_count": 50,
     "metadata": {},
     "output_type": "execute_result"
    }
   ],
   "source": [
    "tokenizer.encode(\"making\", add_special_tokens=False)"
   ]
  },
  {
   "cell_type": "code",
   "execution_count": 51,
   "id": "b1240a5a",
   "metadata": {},
   "outputs": [],
   "source": [
    "BATCH_SIZE = 4"
   ]
  },
  {
   "cell_type": "code",
   "execution_count": 54,
   "id": "156ec10d",
   "metadata": {},
   "outputs": [],
   "source": [
    "train = tf.data.Dataset.from_generator(\n",
    "    data_generator,\n",
    "    args=[complete_sets_pd.image_name, complete_sets_pd.comment, complete_sets_pd.target],\n",
    "    # output_types=((tf.float32, tf.float32), tf.int32), \n",
    "    output_signature=((tf.TensorSpec(shape=IMG_SIZE + [3], dtype=tf.float32), tf.TensorSpec(shape=(768), dtype=tf.float32)), tf.TensorSpec(shape=(1,), dtype=tf.int32))\n",
    ").shuffle(buffer_size=100).prefetch(tf.data.AUTOTUNE).batch(BATCH_SIZE).cache()"
   ]
  },
  {
   "cell_type": "markdown",
   "id": "01879f0c",
   "metadata": {},
   "source": [
    "Check the shape of our input data and target"
   ]
  },
  {
   "cell_type": "code",
   "execution_count": 56,
   "id": "3884f424",
   "metadata": {},
   "outputs": [],
   "source": [
    "# count = 0\n",
    "# for x in train:\n",
    "#     print(\"Input image shape: \", x[0].shape)\n",
    "#     print(\"Bert output shape: \", x[1].shape) \n",
    "#     count += 1\n",
    " \n",
    "#     if count == 1:\n",
    "#         break"
   ]
  },
  {
   "cell_type": "markdown",
   "id": "eb287215",
   "metadata": {},
   "source": [
    "# (5) Build the models"
   ]
  },
  {
   "cell_type": "code",
   "execution_count": 57,
   "id": "ff916e7f",
   "metadata": {
    "scrolled": true
   },
   "outputs": [],
   "source": [
    "def create_model():\n",
    "    \n",
    "    segmentation = tf.keras.Sequential([\n",
    "        tf.keras.layers.Rescaling(1./255.)\n",
    "    ])\n",
    "      \n",
    "    inputs_img = tf.keras.layers.Input(shape=IMG_SIZE + [3])\n",
    "    inputs_comment = tf.keras.layers.Input(shape=(768), dtype=tf.float32) # output shape from the pretrained bert model\n",
    " \n",
    "    x_img = segmentation(inputs_img)\n",
    "    x_img = tf.keras.layers.Conv2D(256, 3, activation=\"relu\")(x_img)\n",
    "    x_img = tf.keras.layers.MaxPooling2D(3)(x_img)\n",
    "    x_img = tf.keras.layers.Conv2D(256, 3, activation=\"relu\")(x_img)\n",
    "    x_img = tf.keras.layers.MaxPooling2D(3)(x_img)\n",
    "    x_img = tf.keras.layers.Dropout(.5)(x_img)\n",
    "    x_img = tf.keras.layers.Conv2D(256, 3, activation=\"relu\", padding=\"valid\")(x_img) \n",
    "    x_img = tf.keras.layers.Dense(256, activation=\"relu\")(x_img)\n",
    "    x_img = tf.keras.layers.GlobalAveragePooling2D()(x_img)\n",
    "    x_img = tf.keras.layers.Dense(128, activation=\"relu\")(x_img)\n",
    "      \n",
    "    # x_comment = tf.keras.layers.LSTM(128, activation=\"relu\")(inputs_comment)\n",
    "    x_comment = tf.keras.layers.Dense(128)(inputs_comment)\n",
    "    x_img = tf.keras.layers.Dropout(.5)(x_img)\n",
    "    x_comment = tf.keras.layers.Flatten()(x_comment)\n",
    "\n",
    "    concat = tf.keras.layers.add([x_img, x_comment]) \n",
    "    concat = tf.keras.layers.BatchNormalization()(concat)\n",
    "    \n",
    "    concat = tf.keras.layers.Dense(128, activation=\"relu\")(concat)\n",
    "    outputs = tf.keras.layers.Dense(len(tokenizer.get_vocab()), activation=\"softmax\")(concat)\n",
    "    model = tf.keras.Model((inputs_img, inputs_comment), outputs)\n",
    "    \n",
    "    model.compile(loss=\"sparse_categorical_crossentropy\",\n",
    "                  optimizer=tf.keras.optimizers.Adam(learning_rate=0.0001),\n",
    "                  metrics=[\"accuracy\"])\n",
    "    \n",
    "    model.summary()\n",
    "    \n",
    "    return model"
   ]
  },
  {
   "cell_type": "code",
   "execution_count": 58,
   "id": "1a4492ae",
   "metadata": {},
   "outputs": [
    {
     "name": "stdout",
     "output_type": "stream",
     "text": [
      "Model: \"model_4\"\n",
      "__________________________________________________________________________________________________\n",
      " Layer (type)                   Output Shape         Param #     Connected to                     \n",
      "==================================================================================================\n",
      " input_16 (InputLayer)          [(None, 244, 244, 3  0           []                               \n",
      "                                )]                                                                \n",
      "                                                                                                  \n",
      " sequential_6 (Sequential)      (None, 244, 244, 3)  0           ['input_16[0][0]']               \n",
      "                                                                                                  \n",
      " conv2d_20 (Conv2D)             (None, 242, 242, 25  7168        ['sequential_6[0][0]']           \n",
      "                                6)                                                                \n",
      "                                                                                                  \n",
      " max_pooling2d_14 (MaxPooling2D  (None, 80, 80, 256)  0          ['conv2d_20[0][0]']              \n",
      " )                                                                                                \n",
      "                                                                                                  \n",
      " conv2d_21 (Conv2D)             (None, 78, 78, 256)  590080      ['max_pooling2d_14[0][0]']       \n",
      "                                                                                                  \n",
      " max_pooling2d_15 (MaxPooling2D  (None, 26, 26, 256)  0          ['conv2d_21[0][0]']              \n",
      " )                                                                                                \n",
      "                                                                                                  \n",
      " dropout_45 (Dropout)           (None, 26, 26, 256)  0           ['max_pooling2d_15[0][0]']       \n",
      "                                                                                                  \n",
      " conv2d_22 (Conv2D)             (None, 24, 24, 256)  590080      ['dropout_45[0][0]']             \n",
      "                                                                                                  \n",
      " dense_22 (Dense)               (None, 24, 24, 256)  65792       ['conv2d_22[0][0]']              \n",
      "                                                                                                  \n",
      " global_average_pooling2d_6 (Gl  (None, 256)         0           ['dense_22[0][0]']               \n",
      " obalAveragePooling2D)                                                                            \n",
      "                                                                                                  \n",
      " input_17 (InputLayer)          [(None, 768)]        0           []                               \n",
      "                                                                                                  \n",
      " dense_23 (Dense)               (None, 128)          32896       ['global_average_pooling2d_6[0][0\n",
      "                                                                 ]']                              \n",
      "                                                                                                  \n",
      " dense_24 (Dense)               (None, 128)          98432       ['input_17[0][0]']               \n",
      "                                                                                                  \n",
      " dropout_46 (Dropout)           (None, 128)          0           ['dense_23[0][0]']               \n",
      "                                                                                                  \n",
      " flatten_6 (Flatten)            (None, 128)          0           ['dense_24[0][0]']               \n",
      "                                                                                                  \n",
      " add_4 (Add)                    (None, 128)          0           ['dropout_46[0][0]',             \n",
      "                                                                  'flatten_6[0][0]']              \n",
      "                                                                                                  \n",
      " batch_normalization_1 (BatchNo  (None, 128)         512         ['add_4[0][0]']                  \n",
      " rmalization)                                                                                     \n",
      "                                                                                                  \n",
      " dense_25 (Dense)               (None, 128)          16512       ['batch_normalization_1[0][0]']  \n",
      "                                                                                                  \n",
      " dense_26 (Dense)               (None, 30522)        3937338     ['dense_25[0][0]']               \n",
      "                                                                                                  \n",
      "==================================================================================================\n",
      "Total params: 5,338,810\n",
      "Trainable params: 5,338,554\n",
      "Non-trainable params: 256\n",
      "__________________________________________________________________________________________________\n"
     ]
    }
   ],
   "source": [
    "model = create_model()"
   ]
  },
  {
   "cell_type": "code",
   "execution_count": 59,
   "id": "4ddee170",
   "metadata": {
    "scrolled": false
   },
   "outputs": [
    {
     "data": {
      "image/png": "[encoded data removed]",
      "text/plain": [
       "<IPython.core.display.Image object>"
      ]
     },
     "execution_count": 59,
     "metadata": {},
     "output_type": "execute_result"
    }
   ],
   "source": [
    "tf.keras.utils.plot_model(model)"
   ]
  },
  {
   "cell_type": "markdown",
   "id": "21339587",
   "metadata": {},
   "source": [
    "# (6) Prepare for training"
   ]
  },
  {
   "cell_type": "code",
   "execution_count": 60,
   "id": "3a4174c2",
   "metadata": {},
   "outputs": [],
   "source": [
    "class ModelCheckpointCustom(tf.keras.callbacks.Callback):\n",
    "    \n",
    "    def __init__(self, model_path, save_best_only=False):\n",
    "        super(ModelCheckpointCustom, self).__init__()\n",
    "         \n",
    "        self.model_path = model_path\n",
    "        self.save_best_only = save_best_only\n",
    "        self.best_val_loss = float('inf') \n",
    "\n",
    "    def on_epoch_end(self, epoch, logs=None):\n",
    "        \n",
    "        print('\\rlogs: ', logs, '\\r')\n",
    "        \n",
    "        current_val_loss = 0 if logs['loss'] is None else logs['loss']\n",
    "        \n",
    "        print('\\rcurrent_val_loss: ', current_val_loss, '\\r')\n",
    "        print('\\rsave_best_only: ', self.save_best_only, '\\r')\n",
    "        print('\\rbest_val_loss: ', self.best_val_loss, '\\r')\n",
    "        print('\\rcurrent_val_loss < best_val_loss: ', current_val_loss < self.best_val_loss, '\\r') \n",
    "        \n",
    "        if self.save_best_only and current_val_loss < self.best_val_loss:\n",
    "            print('\\rSaving weights at (save_best_only=True): ', self.model_path, '\\r')\n",
    "            self.best_val_loss = current_val_loss \n",
    "            self.model.save_weights(self.model_path)\n",
    "            print(\"\\rModel has been saved!\")\n",
    "        else:\n",
    "            print('\\rSaving weights at (save_best_only=False): ', self.model_path, '\\r')\n",
    "            self.model.save_weights(self.model_path) \n",
    "            print(\"\\rModel has been saved!\")\n",
    "\n",
    "save_callbacks = ModelCheckpointCustom(model_path='checkpoint/save-model/', save_best_only=True)"
   ]
  },
  {
   "cell_type": "code",
   "execution_count": 61,
   "id": "f12a4d66",
   "metadata": {},
   "outputs": [],
   "source": [
    "early_stop = tf.keras.callbacks.EarlyStopping(monitor=\"loss\", patience=7, start_from_epoch=0)"
   ]
  },
  {
   "cell_type": "markdown",
   "id": "aa68b632",
   "metadata": {},
   "source": [
    "# (7) Train the models"
   ]
  },
  {
   "cell_type": "code",
   "execution_count": 62,
   "id": "6d4af2b7",
   "metadata": {},
   "outputs": [],
   "source": [
    "# model.load_weights(\"model.weights.h5\")"
   ]
  },
  {
   "cell_type": "code",
   "execution_count": 63,
   "id": "511cd59d",
   "metadata": {},
   "outputs": [
    {
     "name": "stdout",
     "output_type": "stream",
     "text": [
      "Epoch 1/200\n"
     ]
    },
    {
     "name": "stderr",
     "output_type": "stream",
     "text": [
      "2023-04-30 18:17:07.034352: E tensorflow/core/grappler/optimizers/meta_optimizer.cc:954] layout failed: INVALID_ARGUMENT: Size of values 0 does not match size of permutation 4 @ fanin shape inmodel_4/dropout_45/dropout/SelectV2-2-TransposeNHWCToNCHW-LayoutOptimizer\n",
      "2023-04-30 18:17:17.231029: I tensorflow/core/kernels/data/shuffle_dataset_op.cc:392] Filling up shuffle buffer (this may take a while): 80 of 100\n",
      "2023-04-30 18:17:19.722803: I tensorflow/core/kernels/data/shuffle_dataset_op.cc:417] Shuffle buffer filled.\n"
     ]
    },
    {
     "name": "stdout",
     "output_type": "stream",
     "text": [
      " 152/1000 [===>..........................] - ETA: 7:40 - loss: 9.9836 - accuracy: 0.1053"
     ]
    },
    {
     "name": "stderr",
     "output_type": "stream",
     "text": [
      "2023-04-30 18:18:44.001741: W tensorflow/core/kernels/data/cache_dataset_ops.cc:856] The calling iterator did not fully read the dataset being cached. In order to avoid unexpected truncation of the dataset, the partially cached contents of the dataset  will be discarded. This can happen if you have an input pipeline similar to `dataset.cache().take(k).repeat()`. You should use `dataset.take(k).cache().repeat()` instead.\n",
      "Exception ignored in: <generator object data_generator at 0x7f5ee8368740>\n",
      "Traceback (most recent call last):\n",
      "  File \"/usr/local/lib/python3.8/dist-packages/tensorflow/python/data/ops/dataset_ops.py\", line 875, in iterator_completed\n",
      "    del self._iterators[self._normalize_id(iterator_id)]\n",
      "RuntimeError: generator ignored GeneratorExit\n"
     ]
    },
    {
     "name": "stdout",
     "output_type": "stream",
     "text": [
      "[3899] 1\n",
      "[2007] 1\n"
     ]
    },
    {
     "name": "stderr",
     "output_type": "stream",
     "text": [
      "Exception ignored in: <generator object data_generator at 0x7f65901984a0>\n",
      "Traceback (most recent call last):\n",
      "  File \"/usr/local/lib/python3.8/dist-packages/tensorflow/python/data/ops/dataset_ops.py\", line 875, in iterator_completed\n",
      "    del self._iterators[self._normalize_id(iterator_id)]\n",
      "RuntimeError: generator ignored GeneratorExit\n"
     ]
    },
    {
     "name": "stdout",
     "output_type": "stream",
     "text": [
      "logs:  {'loss': 7.476396083831787, 'accuracy': 0.14499999582767487} - accuracy: 0.1450\n",
      "current_val_loss:  7.476396083831787 \n",
      "save_best_only:  True \n",
      "best_val_loss:  inf \n",
      "current_val_loss < best_val_loss:  True \n",
      "Saving weights at (save_best_only=True):  checkpoint/save-model/ \n",
      "Model has been saved!\n",
      "1000/1000 [==============================] - 560s 545ms/step - loss: 7.4764 - accuracy: 0.1450\n",
      "Epoch 2/200\n",
      "logs:  {'loss': 6.104391574859619, 'accuracy': 0.15825000405311584} - accuracy: 0.1583\n",
      "current_val_loss:  6.104391574859619 \n",
      "save_best_only:  True \n",
      "best_val_loss:  7.476396083831787 \n",
      "current_val_loss < best_val_loss:  True \n",
      "Saving weights at (save_best_only=True):  checkpoint/save-model/ \n",
      "Model has been saved!\n",
      "1000/1000 [==============================] - 547s 548ms/step - loss: 6.1044 - accuracy: 0.1583\n",
      "Epoch 3/200\n",
      "logs:  {'loss': 5.890750408172607, 'accuracy': 0.17225000262260437} - accuracy: 0.1723\n",
      "current_val_loss:  5.890750408172607 \n",
      "save_best_only:  True \n",
      "best_val_loss:  6.104391574859619 \n",
      "current_val_loss < best_val_loss:  True \n",
      "Saving weights at (save_best_only=True):  checkpoint/save-model/ \n",
      "Model has been saved!\n",
      "1000/1000 [==============================] - 547s 547ms/step - loss: 5.8908 - accuracy: 0.1723\n",
      "Epoch 4/200\n",
      "logs:  {'loss': 5.97350549697876, 'accuracy': 0.16599999368190765}  - accuracy: 0.1660\n",
      "current_val_loss:  5.97350549697876 \n",
      "save_best_only:  True \n",
      "best_val_loss:  5.890750408172607 \n",
      "current_val_loss < best_val_loss:  False \n",
      "Saving weights at (save_best_only=False):  checkpoint/save-model/ \n",
      "Model has been saved!\n",
      "1000/1000 [==============================] - 546s 546ms/step - loss: 5.9735 - accuracy: 0.1660\n",
      "Epoch 5/200\n",
      " 502/1000 [==============>...............] - ETA: 4:30 - loss: 5.8331 - accuracy: 0.1614"
     ]
    },
    {
     "ename": "KeyboardInterrupt",
     "evalue": "",
     "output_type": "error",
     "traceback": [
      "\u001b[0;31m---------------------------------------------------------------------------\u001b[0m",
      "\u001b[0;31mKeyboardInterrupt\u001b[0m                         Traceback (most recent call last)",
      "Cell \u001b[0;32mIn[63], line 1\u001b[0m\n\u001b[0;32m----> 1\u001b[0m history \u001b[38;5;241m=\u001b[39m \u001b[43mmodel\u001b[49m\u001b[38;5;241;43m.\u001b[39;49m\u001b[43mfit\u001b[49m\u001b[43m(\u001b[49m\u001b[43mtrain\u001b[49m\u001b[43m,\u001b[49m\u001b[43m \u001b[49m\u001b[43mepochs\u001b[49m\u001b[38;5;241;43m=\u001b[39;49m\u001b[38;5;241;43m200\u001b[39;49m\u001b[43m,\u001b[49m\u001b[43m \u001b[49m\u001b[43msteps_per_epoch\u001b[49m\u001b[38;5;241;43m=\u001b[39;49m\u001b[38;5;241;43m1000\u001b[39;49m\u001b[43m,\u001b[49m\u001b[43m \u001b[49m\u001b[43mcallbacks\u001b[49m\u001b[38;5;241;43m=\u001b[39;49m\u001b[43m[\u001b[49m\u001b[43msave_callbacks\u001b[49m\u001b[43m,\u001b[49m\u001b[43m \u001b[49m\u001b[43mearly_stop\u001b[49m\u001b[43m]\u001b[49m\u001b[43m)\u001b[49m\n",
      "File \u001b[0;32m/usr/local/lib/python3.8/dist-packages/keras/utils/traceback_utils.py:65\u001b[0m, in \u001b[0;36mfilter_traceback.<locals>.error_handler\u001b[0;34m(*args, **kwargs)\u001b[0m\n\u001b[1;32m     63\u001b[0m filtered_tb \u001b[38;5;241m=\u001b[39m \u001b[38;5;28;01mNone\u001b[39;00m\n\u001b[1;32m     64\u001b[0m \u001b[38;5;28;01mtry\u001b[39;00m:\n\u001b[0;32m---> 65\u001b[0m     \u001b[38;5;28;01mreturn\u001b[39;00m \u001b[43mfn\u001b[49m\u001b[43m(\u001b[49m\u001b[38;5;241;43m*\u001b[39;49m\u001b[43margs\u001b[49m\u001b[43m,\u001b[49m\u001b[43m \u001b[49m\u001b[38;5;241;43m*\u001b[39;49m\u001b[38;5;241;43m*\u001b[39;49m\u001b[43mkwargs\u001b[49m\u001b[43m)\u001b[49m\n\u001b[1;32m     66\u001b[0m \u001b[38;5;28;01mexcept\u001b[39;00m \u001b[38;5;167;01mException\u001b[39;00m \u001b[38;5;28;01mas\u001b[39;00m e:\n\u001b[1;32m     67\u001b[0m     filtered_tb \u001b[38;5;241m=\u001b[39m _process_traceback_frames(e\u001b[38;5;241m.\u001b[39m__traceback__)\n",
      "File \u001b[0;32m/usr/local/lib/python3.8/dist-packages/keras/engine/training.py:1685\u001b[0m, in \u001b[0;36mModel.fit\u001b[0;34m(self, x, y, batch_size, epochs, verbose, callbacks, validation_split, validation_data, shuffle, class_weight, sample_weight, initial_epoch, steps_per_epoch, validation_steps, validation_batch_size, validation_freq, max_queue_size, workers, use_multiprocessing)\u001b[0m\n\u001b[1;32m   1677\u001b[0m \u001b[38;5;28;01mwith\u001b[39;00m tf\u001b[38;5;241m.\u001b[39mprofiler\u001b[38;5;241m.\u001b[39mexperimental\u001b[38;5;241m.\u001b[39mTrace(\n\u001b[1;32m   1678\u001b[0m     \u001b[38;5;124m\"\u001b[39m\u001b[38;5;124mtrain\u001b[39m\u001b[38;5;124m\"\u001b[39m,\n\u001b[1;32m   1679\u001b[0m     epoch_num\u001b[38;5;241m=\u001b[39mepoch,\n\u001b[0;32m   (...)\u001b[0m\n\u001b[1;32m   1682\u001b[0m     _r\u001b[38;5;241m=\u001b[39m\u001b[38;5;241m1\u001b[39m,\n\u001b[1;32m   1683\u001b[0m ):\n\u001b[1;32m   1684\u001b[0m     callbacks\u001b[38;5;241m.\u001b[39mon_train_batch_begin(step)\n\u001b[0;32m-> 1685\u001b[0m     tmp_logs \u001b[38;5;241m=\u001b[39m \u001b[38;5;28;43mself\u001b[39;49m\u001b[38;5;241;43m.\u001b[39;49m\u001b[43mtrain_function\u001b[49m\u001b[43m(\u001b[49m\u001b[43miterator\u001b[49m\u001b[43m)\u001b[49m\n\u001b[1;32m   1686\u001b[0m     \u001b[38;5;28;01mif\u001b[39;00m data_handler\u001b[38;5;241m.\u001b[39mshould_sync:\n\u001b[1;32m   1687\u001b[0m         context\u001b[38;5;241m.\u001b[39masync_wait()\n",
      "File \u001b[0;32m/usr/local/lib/python3.8/dist-packages/tensorflow/python/util/traceback_utils.py:150\u001b[0m, in \u001b[0;36mfilter_traceback.<locals>.error_handler\u001b[0;34m(*args, **kwargs)\u001b[0m\n\u001b[1;32m    148\u001b[0m filtered_tb \u001b[38;5;241m=\u001b[39m \u001b[38;5;28;01mNone\u001b[39;00m\n\u001b[1;32m    149\u001b[0m \u001b[38;5;28;01mtry\u001b[39;00m:\n\u001b[0;32m--> 150\u001b[0m   \u001b[38;5;28;01mreturn\u001b[39;00m \u001b[43mfn\u001b[49m\u001b[43m(\u001b[49m\u001b[38;5;241;43m*\u001b[39;49m\u001b[43margs\u001b[49m\u001b[43m,\u001b[49m\u001b[43m \u001b[49m\u001b[38;5;241;43m*\u001b[39;49m\u001b[38;5;241;43m*\u001b[39;49m\u001b[43mkwargs\u001b[49m\u001b[43m)\u001b[49m\n\u001b[1;32m    151\u001b[0m \u001b[38;5;28;01mexcept\u001b[39;00m \u001b[38;5;167;01mException\u001b[39;00m \u001b[38;5;28;01mas\u001b[39;00m e:\n\u001b[1;32m    152\u001b[0m   filtered_tb \u001b[38;5;241m=\u001b[39m _process_traceback_frames(e\u001b[38;5;241m.\u001b[39m__traceback__)\n",
      "File \u001b[0;32m/usr/local/lib/python3.8/dist-packages/tensorflow/python/eager/polymorphic_function/polymorphic_function.py:894\u001b[0m, in \u001b[0;36mFunction.__call__\u001b[0;34m(self, *args, **kwds)\u001b[0m\n\u001b[1;32m    891\u001b[0m compiler \u001b[38;5;241m=\u001b[39m \u001b[38;5;124m\"\u001b[39m\u001b[38;5;124mxla\u001b[39m\u001b[38;5;124m\"\u001b[39m \u001b[38;5;28;01mif\u001b[39;00m \u001b[38;5;28mself\u001b[39m\u001b[38;5;241m.\u001b[39m_jit_compile \u001b[38;5;28;01melse\u001b[39;00m \u001b[38;5;124m\"\u001b[39m\u001b[38;5;124mnonXla\u001b[39m\u001b[38;5;124m\"\u001b[39m\n\u001b[1;32m    893\u001b[0m \u001b[38;5;28;01mwith\u001b[39;00m OptionalXlaContext(\u001b[38;5;28mself\u001b[39m\u001b[38;5;241m.\u001b[39m_jit_compile):\n\u001b[0;32m--> 894\u001b[0m   result \u001b[38;5;241m=\u001b[39m \u001b[38;5;28;43mself\u001b[39;49m\u001b[38;5;241;43m.\u001b[39;49m\u001b[43m_call\u001b[49m\u001b[43m(\u001b[49m\u001b[38;5;241;43m*\u001b[39;49m\u001b[43margs\u001b[49m\u001b[43m,\u001b[49m\u001b[43m \u001b[49m\u001b[38;5;241;43m*\u001b[39;49m\u001b[38;5;241;43m*\u001b[39;49m\u001b[43mkwds\u001b[49m\u001b[43m)\u001b[49m\n\u001b[1;32m    896\u001b[0m new_tracing_count \u001b[38;5;241m=\u001b[39m \u001b[38;5;28mself\u001b[39m\u001b[38;5;241m.\u001b[39mexperimental_get_tracing_count()\n\u001b[1;32m    897\u001b[0m without_tracing \u001b[38;5;241m=\u001b[39m (tracing_count \u001b[38;5;241m==\u001b[39m new_tracing_count)\n",
      "File \u001b[0;32m/usr/local/lib/python3.8/dist-packages/tensorflow/python/eager/polymorphic_function/polymorphic_function.py:926\u001b[0m, in \u001b[0;36mFunction._call\u001b[0;34m(self, *args, **kwds)\u001b[0m\n\u001b[1;32m    923\u001b[0m   \u001b[38;5;28mself\u001b[39m\u001b[38;5;241m.\u001b[39m_lock\u001b[38;5;241m.\u001b[39mrelease()\n\u001b[1;32m    924\u001b[0m   \u001b[38;5;66;03m# In this case we have created variables on the first call, so we run the\u001b[39;00m\n\u001b[1;32m    925\u001b[0m   \u001b[38;5;66;03m# defunned version which is guaranteed to never create variables.\u001b[39;00m\n\u001b[0;32m--> 926\u001b[0m   \u001b[38;5;28;01mreturn\u001b[39;00m \u001b[38;5;28;43mself\u001b[39;49m\u001b[38;5;241;43m.\u001b[39;49m\u001b[43m_no_variable_creation_fn\u001b[49m\u001b[43m(\u001b[49m\u001b[38;5;241;43m*\u001b[39;49m\u001b[43margs\u001b[49m\u001b[43m,\u001b[49m\u001b[43m \u001b[49m\u001b[38;5;241;43m*\u001b[39;49m\u001b[38;5;241;43m*\u001b[39;49m\u001b[43mkwds\u001b[49m\u001b[43m)\u001b[49m  \u001b[38;5;66;03m# pylint: disable=not-callable\u001b[39;00m\n\u001b[1;32m    927\u001b[0m \u001b[38;5;28;01melif\u001b[39;00m \u001b[38;5;28mself\u001b[39m\u001b[38;5;241m.\u001b[39m_variable_creation_fn \u001b[38;5;129;01mis\u001b[39;00m \u001b[38;5;129;01mnot\u001b[39;00m \u001b[38;5;28;01mNone\u001b[39;00m:\n\u001b[1;32m    928\u001b[0m   \u001b[38;5;66;03m# Release the lock early so that multiple threads can perform the call\u001b[39;00m\n\u001b[1;32m    929\u001b[0m   \u001b[38;5;66;03m# in parallel.\u001b[39;00m\n\u001b[1;32m    930\u001b[0m   \u001b[38;5;28mself\u001b[39m\u001b[38;5;241m.\u001b[39m_lock\u001b[38;5;241m.\u001b[39mrelease()\n",
      "File \u001b[0;32m/usr/local/lib/python3.8/dist-packages/tensorflow/python/eager/polymorphic_function/tracing_compiler.py:143\u001b[0m, in \u001b[0;36mTracingCompiler.__call__\u001b[0;34m(self, *args, **kwargs)\u001b[0m\n\u001b[1;32m    140\u001b[0m \u001b[38;5;28;01mwith\u001b[39;00m \u001b[38;5;28mself\u001b[39m\u001b[38;5;241m.\u001b[39m_lock:\n\u001b[1;32m    141\u001b[0m   (concrete_function,\n\u001b[1;32m    142\u001b[0m    filtered_flat_args) \u001b[38;5;241m=\u001b[39m \u001b[38;5;28mself\u001b[39m\u001b[38;5;241m.\u001b[39m_maybe_define_function(args, kwargs)\n\u001b[0;32m--> 143\u001b[0m \u001b[38;5;28;01mreturn\u001b[39;00m \u001b[43mconcrete_function\u001b[49m\u001b[38;5;241;43m.\u001b[39;49m\u001b[43m_call_flat\u001b[49m\u001b[43m(\u001b[49m\n\u001b[1;32m    144\u001b[0m \u001b[43m    \u001b[49m\u001b[43mfiltered_flat_args\u001b[49m\u001b[43m,\u001b[49m\u001b[43m \u001b[49m\u001b[43mcaptured_inputs\u001b[49m\u001b[38;5;241;43m=\u001b[39;49m\u001b[43mconcrete_function\u001b[49m\u001b[38;5;241;43m.\u001b[39;49m\u001b[43mcaptured_inputs\u001b[49m\u001b[43m)\u001b[49m\n",
      "File \u001b[0;32m/usr/local/lib/python3.8/dist-packages/tensorflow/python/eager/polymorphic_function/monomorphic_function.py:1757\u001b[0m, in \u001b[0;36mConcreteFunction._call_flat\u001b[0;34m(self, args, captured_inputs, cancellation_manager)\u001b[0m\n\u001b[1;32m   1753\u001b[0m possible_gradient_type \u001b[38;5;241m=\u001b[39m gradients_util\u001b[38;5;241m.\u001b[39mPossibleTapeGradientTypes(args)\n\u001b[1;32m   1754\u001b[0m \u001b[38;5;28;01mif\u001b[39;00m (possible_gradient_type \u001b[38;5;241m==\u001b[39m gradients_util\u001b[38;5;241m.\u001b[39mPOSSIBLE_GRADIENT_TYPES_NONE\n\u001b[1;32m   1755\u001b[0m     \u001b[38;5;129;01mand\u001b[39;00m executing_eagerly):\n\u001b[1;32m   1756\u001b[0m   \u001b[38;5;66;03m# No tape is watching; skip to running the function.\u001b[39;00m\n\u001b[0;32m-> 1757\u001b[0m   \u001b[38;5;28;01mreturn\u001b[39;00m \u001b[38;5;28mself\u001b[39m\u001b[38;5;241m.\u001b[39m_build_call_outputs(\u001b[38;5;28;43mself\u001b[39;49m\u001b[38;5;241;43m.\u001b[39;49m\u001b[43m_inference_function\u001b[49m\u001b[38;5;241;43m.\u001b[39;49m\u001b[43mcall\u001b[49m\u001b[43m(\u001b[49m\n\u001b[1;32m   1758\u001b[0m \u001b[43m      \u001b[49m\u001b[43mctx\u001b[49m\u001b[43m,\u001b[49m\u001b[43m \u001b[49m\u001b[43margs\u001b[49m\u001b[43m,\u001b[49m\u001b[43m \u001b[49m\u001b[43mcancellation_manager\u001b[49m\u001b[38;5;241;43m=\u001b[39;49m\u001b[43mcancellation_manager\u001b[49m\u001b[43m)\u001b[49m)\n\u001b[1;32m   1759\u001b[0m forward_backward \u001b[38;5;241m=\u001b[39m \u001b[38;5;28mself\u001b[39m\u001b[38;5;241m.\u001b[39m_select_forward_and_backward_functions(\n\u001b[1;32m   1760\u001b[0m     args,\n\u001b[1;32m   1761\u001b[0m     possible_gradient_type,\n\u001b[1;32m   1762\u001b[0m     executing_eagerly)\n\u001b[1;32m   1763\u001b[0m forward_function, args_with_tangents \u001b[38;5;241m=\u001b[39m forward_backward\u001b[38;5;241m.\u001b[39mforward()\n",
      "File \u001b[0;32m/usr/local/lib/python3.8/dist-packages/tensorflow/python/eager/polymorphic_function/monomorphic_function.py:381\u001b[0m, in \u001b[0;36m_EagerDefinedFunction.call\u001b[0;34m(self, ctx, args, cancellation_manager)\u001b[0m\n\u001b[1;32m    379\u001b[0m \u001b[38;5;28;01mwith\u001b[39;00m _InterpolateFunctionError(\u001b[38;5;28mself\u001b[39m):\n\u001b[1;32m    380\u001b[0m   \u001b[38;5;28;01mif\u001b[39;00m cancellation_manager \u001b[38;5;129;01mis\u001b[39;00m \u001b[38;5;28;01mNone\u001b[39;00m:\n\u001b[0;32m--> 381\u001b[0m     outputs \u001b[38;5;241m=\u001b[39m \u001b[43mexecute\u001b[49m\u001b[38;5;241;43m.\u001b[39;49m\u001b[43mexecute\u001b[49m\u001b[43m(\u001b[49m\n\u001b[1;32m    382\u001b[0m \u001b[43m        \u001b[49m\u001b[38;5;28;43mstr\u001b[39;49m\u001b[43m(\u001b[49m\u001b[38;5;28;43mself\u001b[39;49m\u001b[38;5;241;43m.\u001b[39;49m\u001b[43msignature\u001b[49m\u001b[38;5;241;43m.\u001b[39;49m\u001b[43mname\u001b[49m\u001b[43m)\u001b[49m\u001b[43m,\u001b[49m\n\u001b[1;32m    383\u001b[0m \u001b[43m        \u001b[49m\u001b[43mnum_outputs\u001b[49m\u001b[38;5;241;43m=\u001b[39;49m\u001b[38;5;28;43mself\u001b[39;49m\u001b[38;5;241;43m.\u001b[39;49m\u001b[43m_num_outputs\u001b[49m\u001b[43m,\u001b[49m\n\u001b[1;32m    384\u001b[0m \u001b[43m        \u001b[49m\u001b[43minputs\u001b[49m\u001b[38;5;241;43m=\u001b[39;49m\u001b[43margs\u001b[49m\u001b[43m,\u001b[49m\n\u001b[1;32m    385\u001b[0m \u001b[43m        \u001b[49m\u001b[43mattrs\u001b[49m\u001b[38;5;241;43m=\u001b[39;49m\u001b[43mattrs\u001b[49m\u001b[43m,\u001b[49m\n\u001b[1;32m    386\u001b[0m \u001b[43m        \u001b[49m\u001b[43mctx\u001b[49m\u001b[38;5;241;43m=\u001b[39;49m\u001b[43mctx\u001b[49m\u001b[43m)\u001b[49m\n\u001b[1;32m    387\u001b[0m   \u001b[38;5;28;01melse\u001b[39;00m:\n\u001b[1;32m    388\u001b[0m     outputs \u001b[38;5;241m=\u001b[39m execute\u001b[38;5;241m.\u001b[39mexecute_with_cancellation(\n\u001b[1;32m    389\u001b[0m         \u001b[38;5;28mstr\u001b[39m(\u001b[38;5;28mself\u001b[39m\u001b[38;5;241m.\u001b[39msignature\u001b[38;5;241m.\u001b[39mname),\n\u001b[1;32m    390\u001b[0m         num_outputs\u001b[38;5;241m=\u001b[39m\u001b[38;5;28mself\u001b[39m\u001b[38;5;241m.\u001b[39m_num_outputs,\n\u001b[0;32m   (...)\u001b[0m\n\u001b[1;32m    393\u001b[0m         ctx\u001b[38;5;241m=\u001b[39mctx,\n\u001b[1;32m    394\u001b[0m         cancellation_manager\u001b[38;5;241m=\u001b[39mcancellation_manager)\n",
      "File \u001b[0;32m/usr/local/lib/python3.8/dist-packages/tensorflow/python/eager/execute.py:52\u001b[0m, in \u001b[0;36mquick_execute\u001b[0;34m(op_name, num_outputs, inputs, attrs, ctx, name)\u001b[0m\n\u001b[1;32m     50\u001b[0m \u001b[38;5;28;01mtry\u001b[39;00m:\n\u001b[1;32m     51\u001b[0m   ctx\u001b[38;5;241m.\u001b[39mensure_initialized()\n\u001b[0;32m---> 52\u001b[0m   tensors \u001b[38;5;241m=\u001b[39m \u001b[43mpywrap_tfe\u001b[49m\u001b[38;5;241;43m.\u001b[39;49m\u001b[43mTFE_Py_Execute\u001b[49m\u001b[43m(\u001b[49m\u001b[43mctx\u001b[49m\u001b[38;5;241;43m.\u001b[39;49m\u001b[43m_handle\u001b[49m\u001b[43m,\u001b[49m\u001b[43m \u001b[49m\u001b[43mdevice_name\u001b[49m\u001b[43m,\u001b[49m\u001b[43m \u001b[49m\u001b[43mop_name\u001b[49m\u001b[43m,\u001b[49m\n\u001b[1;32m     53\u001b[0m \u001b[43m                                      \u001b[49m\u001b[43minputs\u001b[49m\u001b[43m,\u001b[49m\u001b[43m \u001b[49m\u001b[43mattrs\u001b[49m\u001b[43m,\u001b[49m\u001b[43m \u001b[49m\u001b[43mnum_outputs\u001b[49m\u001b[43m)\u001b[49m\n\u001b[1;32m     54\u001b[0m \u001b[38;5;28;01mexcept\u001b[39;00m core\u001b[38;5;241m.\u001b[39m_NotOkStatusException \u001b[38;5;28;01mas\u001b[39;00m e:\n\u001b[1;32m     55\u001b[0m   \u001b[38;5;28;01mif\u001b[39;00m name \u001b[38;5;129;01mis\u001b[39;00m \u001b[38;5;129;01mnot\u001b[39;00m \u001b[38;5;28;01mNone\u001b[39;00m:\n",
      "\u001b[0;31mKeyboardInterrupt\u001b[0m: "
     ]
    }
   ],
   "source": [
    "history = model.fit(train, epochs=200, steps_per_epoch=1000, callbacks=[save_callbacks, early_stop])"
   ]
  },
  {
   "cell_type": "code",
   "execution_count": 996,
   "id": "207a49a2",
   "metadata": {},
   "outputs": [],
   "source": [
    "model.save_weights(\"model.weights.h5\")"
   ]
  },
  {
   "cell_type": "code",
   "execution_count": null,
   "id": "1e7baa05",
   "metadata": {},
   "outputs": [],
   "source": [
    "!du -h -a --max-depth=1"
   ]
  },
  {
   "cell_type": "code",
   "execution_count": null,
   "id": "13a2fe70",
   "metadata": {},
   "outputs": [],
   "source": []
  }
 ],
 "metadata": {
  "kernelspec": {
   "display_name": "Python 3 (ipykernel)",
   "language": "python",
   "name": "python3"
  },
  "language_info": {
   "codemirror_mode": {
    "name": "ipython",
    "version": 3
   },
   "file_extension": ".py",
   "mimetype": "text/x-python",
   "name": "python",
   "nbconvert_exporter": "python",
   "pygments_lexer": "ipython3",
   "version": "3.8.10"
  }
 },
 "nbformat": 4,
 "nbformat_minor": 5
}
