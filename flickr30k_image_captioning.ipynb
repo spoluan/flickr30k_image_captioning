{
 "cells": [
  {
   "cell_type": "code",
   "execution_count": 2,
   "id": "1412b497",
   "metadata": {},
   "outputs": [
    {
     "name": "stdout",
     "output_type": "stream",
     "text": [
      "Sun Apr 30 05:30:45 2023       \r\n",
      "+---------------------------------------------------------------------------------------+\r\n",
      "| NVIDIA-SMI 530.30.02              Driver Version: 530.30.02    CUDA Version: 12.1     |\r\n",
      "|-----------------------------------------+----------------------+----------------------+\r\n",
      "| GPU  Name                  Persistence-M| Bus-Id        Disp.A | Volatile Uncorr. ECC |\r\n",
      "| Fan  Temp  Perf            Pwr:Usage/Cap|         Memory-Usage | GPU-Util  Compute M. |\r\n",
      "|                                         |                      |               MIG M. |\r\n",
      "|=========================================+======================+======================|\r\n",
      "|   0  NVIDIA GeForce RTX 3090         On | 00000000:65:00.0 Off |                  N/A |\r\n",
      "|  0%   47C    P8               47W / 390W|    234MiB / 24576MiB |      0%      Default |\r\n",
      "|                                         |                      |                  N/A |\r\n",
      "+-----------------------------------------+----------------------+----------------------+\r\n",
      "                                                                                         \r\n",
      "+---------------------------------------------------------------------------------------+\r\n",
      "| Processes:                                                                            |\r\n",
      "|  GPU   GI   CI        PID   Type   Process name                            GPU Memory |\r\n",
      "|        ID   ID                                                             Usage      |\r\n",
      "|=======================================================================================|\r\n",
      "+---------------------------------------------------------------------------------------+\r\n"
     ]
    }
   ],
   "source": [
    "!nvidia-smi"
   ]
  },
  {
   "cell_type": "markdown",
   "id": "4e1cae71",
   "metadata": {},
   "source": [
    "# (1) Import the necessary libraries"
   ]
  },
  {
   "cell_type": "code",
   "execution_count": 1,
   "id": "243f5364",
   "metadata": {},
   "outputs": [
    {
     "name": "stderr",
     "output_type": "stream",
     "text": [
      "2023-04-30 07:40:32.869523: I tensorflow/core/util/port.cc:110] oneDNN custom operations are on. You may see slightly different numerical results due to floating-point round-off errors from different computation orders. To turn them off, set the environment variable `TF_ENABLE_ONEDNN_OPTS=0`.\n",
      "2023-04-30 07:40:32.905903: I tensorflow/core/platform/cpu_feature_guard.cc:182] This TensorFlow binary is optimized to use available CPU instructions in performance-critical operations.\n",
      "To enable the following instructions: AVX2 AVX512F AVX512_VNNI FMA, in other operations, rebuild TensorFlow with the appropriate compiler flags.\n"
     ]
    }
   ],
   "source": [
    "import glob\n",
    "import pandas as pd\n",
    "import tensorflow as tf\n",
    "import numpy as np\n",
    "import re\n",
    "import time\n",
    "import os\n",
    "import tensorflow_hub as hub"
   ]
  },
  {
   "cell_type": "markdown",
   "id": "43b3c555",
   "metadata": {},
   "source": [
    "# (2) Download the datasets"
   ]
  },
  {
   "cell_type": "markdown",
   "id": "196b77d9",
   "metadata": {},
   "source": [
    "### You can download the datasets from https://www.kaggle.com/datasets/hsankesara/flickr-image-dataset"
   ]
  },
  {
   "cell_type": "code",
   "execution_count": 8,
   "id": "1f40b466",
   "metadata": {
    "scrolled": false
   },
   "outputs": [
    {
     "name": "stdout",
     "output_type": "stream",
     "text": [
      "flickr30k_images  results.csv\r\n"
     ]
    }
   ],
   "source": [
    "!ls datasets/flickr30k_images"
   ]
  },
  {
   "cell_type": "markdown",
   "id": "e4b4081e",
   "metadata": {},
   "source": [
    "# (3) Prepare the datasets"
   ]
  },
  {
   "cell_type": "code",
   "execution_count": 2,
   "id": "fcc8add5",
   "metadata": {},
   "outputs": [],
   "source": [
    "captioning_ds = pd.read_csv(\"datasets/flickr30k_images/results.csv\", delimiter=\"|\")"
   ]
  },
  {
   "cell_type": "code",
   "execution_count": 3,
   "id": "e966a656",
   "metadata": {
    "scrolled": true
   },
   "outputs": [
    {
     "data": {
      "text/html": [
       "<div>\n",
       "<style scoped>\n",
       "    .dataframe tbody tr th:only-of-type {\n",
       "        vertical-align: middle;\n",
       "    }\n",
       "\n",
       "    .dataframe tbody tr th {\n",
       "        vertical-align: top;\n",
       "    }\n",
       "\n",
       "    .dataframe thead th {\n",
       "        text-align: right;\n",
       "    }\n",
       "</style>\n",
       "<table border=\"1\" class=\"dataframe\">\n",
       "  <thead>\n",
       "    <tr style=\"text-align: right;\">\n",
       "      <th></th>\n",
       "      <th>image_name</th>\n",
       "      <th>comment_number</th>\n",
       "      <th>comment</th>\n",
       "    </tr>\n",
       "  </thead>\n",
       "  <tbody>\n",
       "    <tr>\n",
       "      <th>0</th>\n",
       "      <td>1000092795.jpg</td>\n",
       "      <td>0</td>\n",
       "      <td>Two young guys with shaggy hair look at their...</td>\n",
       "    </tr>\n",
       "    <tr>\n",
       "      <th>1</th>\n",
       "      <td>1000092795.jpg</td>\n",
       "      <td>1</td>\n",
       "      <td>Two young , White males are outside near many...</td>\n",
       "    </tr>\n",
       "    <tr>\n",
       "      <th>2</th>\n",
       "      <td>1000092795.jpg</td>\n",
       "      <td>2</td>\n",
       "      <td>Two men in green shirts are standing in a yard .</td>\n",
       "    </tr>\n",
       "    <tr>\n",
       "      <th>3</th>\n",
       "      <td>1000092795.jpg</td>\n",
       "      <td>3</td>\n",
       "      <td>A man in a blue shirt standing in a garden .</td>\n",
       "    </tr>\n",
       "    <tr>\n",
       "      <th>4</th>\n",
       "      <td>1000092795.jpg</td>\n",
       "      <td>4</td>\n",
       "      <td>Two friends enjoy time spent together .</td>\n",
       "    </tr>\n",
       "    <tr>\n",
       "      <th>5</th>\n",
       "      <td>10002456.jpg</td>\n",
       "      <td>0</td>\n",
       "      <td>Several men in hard hats are operating a gian...</td>\n",
       "    </tr>\n",
       "    <tr>\n",
       "      <th>6</th>\n",
       "      <td>10002456.jpg</td>\n",
       "      <td>1</td>\n",
       "      <td>Workers look down from up above on a piece of...</td>\n",
       "    </tr>\n",
       "    <tr>\n",
       "      <th>7</th>\n",
       "      <td>10002456.jpg</td>\n",
       "      <td>2</td>\n",
       "      <td>Two men working on a machine wearing hard hats .</td>\n",
       "    </tr>\n",
       "    <tr>\n",
       "      <th>8</th>\n",
       "      <td>10002456.jpg</td>\n",
       "      <td>3</td>\n",
       "      <td>Four men on top of a tall structure .</td>\n",
       "    </tr>\n",
       "    <tr>\n",
       "      <th>9</th>\n",
       "      <td>10002456.jpg</td>\n",
       "      <td>4</td>\n",
       "      <td>Three men on a large rig .</td>\n",
       "    </tr>\n",
       "  </tbody>\n",
       "</table>\n",
       "</div>"
      ],
      "text/plain": [
       "       image_name  comment_number   \n",
       "0  1000092795.jpg               0  \\\n",
       "1  1000092795.jpg               1   \n",
       "2  1000092795.jpg               2   \n",
       "3  1000092795.jpg               3   \n",
       "4  1000092795.jpg               4   \n",
       "5    10002456.jpg               0   \n",
       "6    10002456.jpg               1   \n",
       "7    10002456.jpg               2   \n",
       "8    10002456.jpg               3   \n",
       "9    10002456.jpg               4   \n",
       "\n",
       "                                             comment  \n",
       "0   Two young guys with shaggy hair look at their...  \n",
       "1   Two young , White males are outside near many...  \n",
       "2   Two men in green shirts are standing in a yard .  \n",
       "3       A man in a blue shirt standing in a garden .  \n",
       "4            Two friends enjoy time spent together .  \n",
       "5   Several men in hard hats are operating a gian...  \n",
       "6   Workers look down from up above on a piece of...  \n",
       "7   Two men working on a machine wearing hard hats .  \n",
       "8              Four men on top of a tall structure .  \n",
       "9                         Three men on a large rig .  "
      ]
     },
     "execution_count": 3,
     "metadata": {},
     "output_type": "execute_result"
    }
   ],
   "source": [
    "captioning_ds.head(10)"
   ]
  },
  {
   "cell_type": "markdown",
   "id": "f8a1dafe",
   "metadata": {},
   "source": [
    "Use regex to remove some symbols and punctuation"
   ]
  },
  {
   "cell_type": "code",
   "execution_count": 4,
   "id": "bd9da729",
   "metadata": {},
   "outputs": [],
   "source": [
    "def func(row):\n",
    "    comment = str(row[2]).lower()\n",
    "    comment = ' ' . join(re.findall(r\"[a-z]+\", comment))\n",
    "    comment = re.sub(r\"\\s\", \" \", comment) # replace any multiple spaces\n",
    "    return {\"image_name\": row[0], \"comment\": comment}"
   ]
  },
  {
   "cell_type": "code",
   "execution_count": 5,
   "id": "c717c71c",
   "metadata": {},
   "outputs": [],
   "source": [
    "captionaing_cleaned = pd.DataFrame(dict(captioning_ds.apply(func, axis=1))).transpose()"
   ]
  },
  {
   "cell_type": "code",
   "execution_count": 6,
   "id": "4b7589c8",
   "metadata": {},
   "outputs": [
    {
     "data": {
      "text/html": [
       "<div>\n",
       "<style scoped>\n",
       "    .dataframe tbody tr th:only-of-type {\n",
       "        vertical-align: middle;\n",
       "    }\n",
       "\n",
       "    .dataframe tbody tr th {\n",
       "        vertical-align: top;\n",
       "    }\n",
       "\n",
       "    .dataframe thead th {\n",
       "        text-align: right;\n",
       "    }\n",
       "</style>\n",
       "<table border=\"1\" class=\"dataframe\">\n",
       "  <thead>\n",
       "    <tr style=\"text-align: right;\">\n",
       "      <th></th>\n",
       "      <th>image_name</th>\n",
       "      <th>comment</th>\n",
       "    </tr>\n",
       "  </thead>\n",
       "  <tbody>\n",
       "    <tr>\n",
       "      <th>0</th>\n",
       "      <td>1000092795.jpg</td>\n",
       "      <td>two young guys with shaggy hair look at their ...</td>\n",
       "    </tr>\n",
       "    <tr>\n",
       "      <th>1</th>\n",
       "      <td>1000092795.jpg</td>\n",
       "      <td>two young white males are outside near many bu...</td>\n",
       "    </tr>\n",
       "    <tr>\n",
       "      <th>2</th>\n",
       "      <td>1000092795.jpg</td>\n",
       "      <td>two men in green shirts are standing in a yard</td>\n",
       "    </tr>\n",
       "  </tbody>\n",
       "</table>\n",
       "</div>"
      ],
      "text/plain": [
       "       image_name                                            comment\n",
       "0  1000092795.jpg  two young guys with shaggy hair look at their ...\n",
       "1  1000092795.jpg  two young white males are outside near many bu...\n",
       "2  1000092795.jpg     two men in green shirts are standing in a yard"
      ]
     },
     "execution_count": 6,
     "metadata": {},
     "output_type": "execute_result"
    }
   ],
   "source": [
    "captionaing_cleaned.head(3)"
   ]
  },
  {
   "cell_type": "markdown",
   "id": "9c2a9d35",
   "metadata": {},
   "source": [
    "Create multigrams for all the comments"
   ]
  },
  {
   "cell_type": "code",
   "execution_count": 7,
   "id": "db19a5a2",
   "metadata": {},
   "outputs": [
    {
     "name": "stdout",
     "output_type": "stream",
     "text": [
      "Start processing ...\n",
      "Processing time: 18.59415355231613 seconds\n"
     ]
    }
   ],
   "source": [
    "start_time = time.perf_counter()\n",
    "print(\"Start processing ...\")\n",
    "complete_sets = []\n",
    "for index, row in captionaing_cleaned.iterrows():\n",
    "    comment_split = str(\"sevendi \" + row.comment + \" poluan\") . split()\n",
    "    for ind in range(1, len(comment_split)):\n",
    "        complete_sets.append({\n",
    "            \"image_name\": os.path.join(\"datasets/flickr30k_images/flickr30k_images\", row.image_name), \n",
    "            \"comment\": ' ' . join(comment_split[:ind]),\n",
    "            \"target\": comment_split[ind]\n",
    "        })\n",
    "end_time = time.perf_counter()\n",
    "print(f\"Processing time: {end_time - start_time} seconds\")"
   ]
  },
  {
   "cell_type": "code",
   "execution_count": 8,
   "id": "d14bbac7",
   "metadata": {},
   "outputs": [],
   "source": [
    "complete_sets_pd = pd.DataFrame(complete_sets)"
   ]
  },
  {
   "cell_type": "markdown",
   "id": "dc14bd6d",
   "metadata": {},
   "source": [
    "So for each image we need to create an n-grams that would probably be the next prediction words to the model"
   ]
  },
  {
   "cell_type": "code",
   "execution_count": 9,
   "id": "34c85b4e",
   "metadata": {},
   "outputs": [
    {
     "data": {
      "text/html": [
       "<div>\n",
       "<style scoped>\n",
       "    .dataframe tbody tr th:only-of-type {\n",
       "        vertical-align: middle;\n",
       "    }\n",
       "\n",
       "    .dataframe tbody tr th {\n",
       "        vertical-align: top;\n",
       "    }\n",
       "\n",
       "    .dataframe thead th {\n",
       "        text-align: right;\n",
       "    }\n",
       "</style>\n",
       "<table border=\"1\" class=\"dataframe\">\n",
       "  <thead>\n",
       "    <tr style=\"text-align: right;\">\n",
       "      <th></th>\n",
       "      <th>image_name</th>\n",
       "      <th>comment</th>\n",
       "      <th>target</th>\n",
       "    </tr>\n",
       "  </thead>\n",
       "  <tbody>\n",
       "    <tr>\n",
       "      <th>0</th>\n",
       "      <td>datasets/flickr30k_images/flickr30k_images/100...</td>\n",
       "      <td>sevendi</td>\n",
       "      <td>two</td>\n",
       "    </tr>\n",
       "    <tr>\n",
       "      <th>1</th>\n",
       "      <td>datasets/flickr30k_images/flickr30k_images/100...</td>\n",
       "      <td>sevendi two</td>\n",
       "      <td>young</td>\n",
       "    </tr>\n",
       "    <tr>\n",
       "      <th>2</th>\n",
       "      <td>datasets/flickr30k_images/flickr30k_images/100...</td>\n",
       "      <td>sevendi two young</td>\n",
       "      <td>guys</td>\n",
       "    </tr>\n",
       "    <tr>\n",
       "      <th>3</th>\n",
       "      <td>datasets/flickr30k_images/flickr30k_images/100...</td>\n",
       "      <td>sevendi two young guys</td>\n",
       "      <td>with</td>\n",
       "    </tr>\n",
       "    <tr>\n",
       "      <th>4</th>\n",
       "      <td>datasets/flickr30k_images/flickr30k_images/100...</td>\n",
       "      <td>sevendi two young guys with</td>\n",
       "      <td>shaggy</td>\n",
       "    </tr>\n",
       "    <tr>\n",
       "      <th>5</th>\n",
       "      <td>datasets/flickr30k_images/flickr30k_images/100...</td>\n",
       "      <td>sevendi two young guys with shaggy</td>\n",
       "      <td>hair</td>\n",
       "    </tr>\n",
       "    <tr>\n",
       "      <th>6</th>\n",
       "      <td>datasets/flickr30k_images/flickr30k_images/100...</td>\n",
       "      <td>sevendi two young guys with shaggy hair</td>\n",
       "      <td>look</td>\n",
       "    </tr>\n",
       "    <tr>\n",
       "      <th>7</th>\n",
       "      <td>datasets/flickr30k_images/flickr30k_images/100...</td>\n",
       "      <td>sevendi two young guys with shaggy hair look</td>\n",
       "      <td>at</td>\n",
       "    </tr>\n",
       "    <tr>\n",
       "      <th>8</th>\n",
       "      <td>datasets/flickr30k_images/flickr30k_images/100...</td>\n",
       "      <td>sevendi two young guys with shaggy hair look at</td>\n",
       "      <td>their</td>\n",
       "    </tr>\n",
       "    <tr>\n",
       "      <th>9</th>\n",
       "      <td>datasets/flickr30k_images/flickr30k_images/100...</td>\n",
       "      <td>sevendi two young guys with shaggy hair look a...</td>\n",
       "      <td>hands</td>\n",
       "    </tr>\n",
       "  </tbody>\n",
       "</table>\n",
       "</div>"
      ],
      "text/plain": [
       "                                          image_name   \n",
       "0  datasets/flickr30k_images/flickr30k_images/100...  \\\n",
       "1  datasets/flickr30k_images/flickr30k_images/100...   \n",
       "2  datasets/flickr30k_images/flickr30k_images/100...   \n",
       "3  datasets/flickr30k_images/flickr30k_images/100...   \n",
       "4  datasets/flickr30k_images/flickr30k_images/100...   \n",
       "5  datasets/flickr30k_images/flickr30k_images/100...   \n",
       "6  datasets/flickr30k_images/flickr30k_images/100...   \n",
       "7  datasets/flickr30k_images/flickr30k_images/100...   \n",
       "8  datasets/flickr30k_images/flickr30k_images/100...   \n",
       "9  datasets/flickr30k_images/flickr30k_images/100...   \n",
       "\n",
       "                                             comment  target  \n",
       "0                                            sevendi     two  \n",
       "1                                        sevendi two   young  \n",
       "2                                  sevendi two young    guys  \n",
       "3                             sevendi two young guys    with  \n",
       "4                        sevendi two young guys with  shaggy  \n",
       "5                 sevendi two young guys with shaggy    hair  \n",
       "6            sevendi two young guys with shaggy hair    look  \n",
       "7       sevendi two young guys with shaggy hair look      at  \n",
       "8    sevendi two young guys with shaggy hair look at   their  \n",
       "9  sevendi two young guys with shaggy hair look a...   hands  "
      ]
     },
     "execution_count": 9,
     "metadata": {},
     "output_type": "execute_result"
    }
   ],
   "source": [
    "complete_sets_pd.head(10)"
   ]
  },
  {
   "cell_type": "markdown",
   "id": "13770d28",
   "metadata": {},
   "source": [
    "# (4) Create text tokenizer"
   ]
  },
  {
   "cell_type": "markdown",
   "id": "df8a7dc5",
   "metadata": {},
   "source": [
    "I want to know the total vocabulary and sequence length that we have in our training sets"
   ]
  },
  {
   "cell_type": "code",
   "execution_count": 10,
   "id": "d43d9858",
   "metadata": {},
   "outputs": [
    {
     "data": {
      "text/plain": [
       "18079"
      ]
     },
     "execution_count": 10,
     "metadata": {},
     "output_type": "execute_result"
    }
   ],
   "source": [
    "TOTAL_VOCAB = len(np.unique(' ' . join(list(captionaing_cleaned.comment)).split()))\n",
    "TOTAL_VOCAB"
   ]
  },
  {
   "cell_type": "code",
   "execution_count": 11,
   "id": "a877699f",
   "metadata": {},
   "outputs": [
    {
     "data": {
      "text/plain": [
       "406"
      ]
     },
     "execution_count": 11,
     "metadata": {},
     "output_type": "execute_result"
    }
   ],
   "source": [
    "SEQ_LENGTH = max([len(x) for x in complete_sets_pd.comment])\n",
    "SEQ_LENGTH"
   ]
  },
  {
   "cell_type": "code",
   "execution_count": 12,
   "id": "da5a4b4f",
   "metadata": {
    "scrolled": false
   },
   "outputs": [
    {
     "name": "stderr",
     "output_type": "stream",
     "text": [
      "2023-04-30 07:41:03.876581: I tensorflow/core/common_runtime/gpu/gpu_device.cc:1635] Created device /job:localhost/replica:0/task:0/device:GPU:0 with 22009 MB memory:  -> device: 0, name: NVIDIA GeForce RTX 3090, pci bus id: 0000:65:00.0, compute capability: 8.6\n"
     ]
    }
   ],
   "source": [
    "vectorize = tf.keras.layers.TextVectorization(max_tokens=TOTAL_VOCAB, output_mode=\"int\", output_sequence_length=SEQ_LENGTH)"
   ]
  },
  {
   "cell_type": "code",
   "execution_count": 13,
   "id": "73a92db5",
   "metadata": {},
   "outputs": [
    {
     "name": "stdout",
     "output_type": "stream",
     "text": [
      "Start processing ...\n",
      "Processing time: 12.095918516162783 seconds\n"
     ]
    }
   ],
   "source": [
    "start_time = time.perf_counter()\n",
    "print(\"Start processing ...\")\n",
    "\n",
    "vectorize.adapt(captionaing_cleaned.comment, batch_size=32)\n",
    "\n",
    "end_time = time.perf_counter()\n",
    "print(f\"Processing time: {end_time - start_time} seconds\")"
   ]
  },
  {
   "cell_type": "markdown",
   "id": "4c73bfad",
   "metadata": {},
   "source": [
    "# (4) Create a data loader for our image"
   ]
  },
  {
   "cell_type": "code",
   "execution_count": 14,
   "id": "00e86434",
   "metadata": {},
   "outputs": [],
   "source": [
    "IMG_SIZE = [244, 244]"
   ]
  },
  {
   "cell_type": "code",
   "execution_count": 15,
   "id": "9850a1a6",
   "metadata": {},
   "outputs": [],
   "source": [
    "def data_loader(row):\n",
    "    image_path = row[0]\n",
    "    comment = row[1]\n",
    "    target = row[2]\n",
    "    \n",
    "    image = tf.io.read_file(image_path)\n",
    "    image = tf.image.decode_jpeg(image) \n",
    "    image = tf.image.resize(image, IMG_SIZE)\n",
    "    \n",
    "    tokenized_comment = vectorize(comment)\n",
    "    tokenized_target = tf.reduce_sum(vectorize(target)) # just to get the lable so i just sum all the array up because it's the only one in the array\n",
    "    \n",
    "    return (image, tokenized_comment), tokenized_target"
   ]
  },
  {
   "cell_type": "code",
   "execution_count": 16,
   "id": "86ce2b68",
   "metadata": {},
   "outputs": [],
   "source": [
    "train_ds = tf.data.Dataset.from_tensor_slices(complete_sets_pd)"
   ]
  },
  {
   "cell_type": "code",
   "execution_count": 17,
   "id": "3b56e3a2",
   "metadata": {},
   "outputs": [],
   "source": [
    "BATCH_SIZE = 32"
   ]
  },
  {
   "cell_type": "code",
   "execution_count": 18,
   "id": "6372f552",
   "metadata": {},
   "outputs": [],
   "source": [
    "train = train_ds.map(data_loader).cache().prefetch(tf.data.AUTOTUNE).shuffle(buffer_size=1000).batch(BATCH_SIZE)"
   ]
  },
  {
   "cell_type": "markdown",
   "id": "e69c8fd3",
   "metadata": {},
   "source": [
    "# (5) Build the models"
   ]
  },
  {
   "cell_type": "code",
   "execution_count": 19,
   "id": "7191d324",
   "metadata": {},
   "outputs": [],
   "source": [
    "segmentation = tf.keras.Sequential([ \n",
    "    tf.keras.layers.Rescaling(1./255.),\n",
    "    tf.keras.layers.RandomHeight(.2),\n",
    "    tf.keras.layers.RandomWidth(.2),\n",
    "    tf.keras.layers.RandomZoom(.2),\n",
    "    tf.keras.layers.RandomFlip(\"horizontal\")\n",
    "])"
   ]
  },
  {
   "cell_type": "code",
   "execution_count": 56,
   "id": "12574370",
   "metadata": {
    "scrolled": true
   },
   "outputs": [],
   "source": [
    "def create_model():\n",
    "    # word embedding\n",
    "    embedding = tf.keras.layers.Embedding(input_dim=TOTAL_VOCAB, output_dim=1024, input_length=SEQ_LENGTH)\n",
    "\n",
    "    # pretrained resnet\n",
    "    resnet152 = tf.keras.applications.ResNet152(include_top=False, input_shape=IMG_SIZE + [3])\n",
    "    resnet152.trainable = False\n",
    "\n",
    "    inputs_img = tf.keras.layers.Input(shape=IMG_SIZE + [3])\n",
    "    inputs_comment = tf.keras.layers.Input(shape=(SEQ_LENGTH))\n",
    "\n",
    "    x_img = segmentation(inputs_img)\n",
    "    x_img = resnet152(x_img, training=False)\n",
    "    x_img = tf.keras.layers.Dense(1024)(x_img)\n",
    "    x_img = tf.keras.layers.GlobalAveragePooling2D()(x_img)\n",
    "\n",
    "    x_comment = embedding(inputs_comment)\n",
    "    x_comment = tf.keras.layers.LSTM(1024)(x_comment)\n",
    "    x_comment = tf.keras.layers.Dense(1024)(x_comment)\n",
    "\n",
    "    concat = tf.keras.layers.Concatenate()([x_img, x_comment])\n",
    "    concat = tf.keras.layers.Dense(1024, activation=\"relu\")(concat)\n",
    "    outputs = tf.keras.layers.Dense(TOTAL_VOCAB, activation=\"softmax\")(concat)\n",
    "    model = tf.keras.Model((inputs_img, inputs_comment), outputs)\n",
    "    \n",
    "    model.compile(loss=\"sparse_categorical_crossentropy\",\n",
    "                  optimizer=tf.keras.optimizers.Adam(lr=0.0001),\n",
    "                  metrics=[\"accuracy\"])\n",
    "    \n",
    "    model.summary()\n",
    "    \n",
    "    return model"
   ]
  },
  {
   "cell_type": "code",
   "execution_count": 57,
   "id": "995fe722",
   "metadata": {},
   "outputs": [
    {
     "name": "stderr",
     "output_type": "stream",
     "text": [
      "2023-04-30 07:51:00.407725: I tensorflow/core/common_runtime/executor.cc:1197] [/device:CPU:0] (DEBUG INFO) Executor start aborting (this does not indicate an error and you can ignore this message): INVALID_ARGUMENT: You must feed a value for placeholder tensor 'gradients/split_2_grad/concat/split_2/split_dim' with dtype int32\n",
      "\t [[{{node gradients/split_2_grad/concat/split_2/split_dim}}]]\n",
      "2023-04-30 07:51:00.408854: I tensorflow/core/common_runtime/executor.cc:1197] [/device:CPU:0] (DEBUG INFO) Executor start aborting (this does not indicate an error and you can ignore this message): INVALID_ARGUMENT: You must feed a value for placeholder tensor 'gradients/split_grad/concat/split/split_dim' with dtype int32\n",
      "\t [[{{node gradients/split_grad/concat/split/split_dim}}]]\n",
      "2023-04-30 07:51:00.410117: I tensorflow/core/common_runtime/executor.cc:1197] [/device:CPU:0] (DEBUG INFO) Executor start aborting (this does not indicate an error and you can ignore this message): INVALID_ARGUMENT: You must feed a value for placeholder tensor 'gradients/split_1_grad/concat/split_1/split_dim' with dtype int32\n",
      "\t [[{{node gradients/split_1_grad/concat/split_1/split_dim}}]]\n",
      "WARNING:absl:`lr` is deprecated in Keras optimizer, please use `learning_rate` or use the legacy optimizer, e.g.,tf.keras.optimizers.legacy.Adam.\n"
     ]
    },
    {
     "name": "stdout",
     "output_type": "stream",
     "text": [
      "Model: \"model_4\"\n",
      "__________________________________________________________________________________________________\n",
      " Layer (type)                   Output Shape         Param #     Connected to                     \n",
      "==================================================================================================\n",
      " input_17 (InputLayer)          [(None, 244, 244, 3  0           []                               \n",
      "                                )]                                                                \n",
      "                                                                                                  \n",
      " sequential (Sequential)        (None, None, None,   0           ['input_17[0][0]']               \n",
      "                                None)                                                             \n",
      "                                                                                                  \n",
      " input_18 (InputLayer)          [(None, 406)]        0           []                               \n",
      "                                                                                                  \n",
      " resnet152 (Functional)         (None, 8, 8, 2048)   58370944    ['sequential[5][0]']             \n",
      "                                                                                                  \n",
      " embedding_5 (Embedding)        (None, 406, 1024)    18512896    ['input_18[0][0]']               \n",
      "                                                                                                  \n",
      " dense_15 (Dense)               (None, None, None,   2098176     ['resnet152[0][0]']              \n",
      "                                1024)                                                             \n",
      "                                                                                                  \n",
      " lstm_5 (LSTM)                  (None, 1024)         8392704     ['embedding_5[0][0]']            \n",
      "                                                                                                  \n",
      " global_average_pooling2d_5 (Gl  (None, 1024)        0           ['dense_15[0][0]']               \n",
      " obalAveragePooling2D)                                                                            \n",
      "                                                                                                  \n",
      " dense_16 (Dense)               (None, 1024)         1049600     ['lstm_5[0][0]']                 \n",
      "                                                                                                  \n",
      " concatenate_4 (Concatenate)    (None, 2048)         0           ['global_average_pooling2d_5[0][0\n",
      "                                                                 ]',                              \n",
      "                                                                  'dense_16[0][0]']               \n",
      "                                                                                                  \n",
      " dense_17 (Dense)               (None, 1024)         2098176     ['concatenate_4[0][0]']          \n",
      "                                                                                                  \n",
      " dense_18 (Dense)               (None, 18079)        18530975    ['dense_17[0][0]']               \n",
      "                                                                                                  \n",
      "==================================================================================================\n",
      "Total params: 109,053,471\n",
      "Trainable params: 50,682,527\n",
      "Non-trainable params: 58,370,944\n",
      "__________________________________________________________________________________________________\n"
     ]
    }
   ],
   "source": [
    "model = create_model()"
   ]
  },
  {
   "cell_type": "code",
   "execution_count": 58,
   "id": "5a2dd236",
   "metadata": {
    "scrolled": true
   },
   "outputs": [
    {
     "data": {
      "image/png": "[encoded data removed]",
      "text/plain": [
       "<IPython.core.display.Image object>"
      ]
     },
     "execution_count": 58,
     "metadata": {},
     "output_type": "execute_result"
    }
   ],
   "source": [
    "tf.keras.utils.plot_model(model)"
   ]
  },
  {
   "cell_type": "markdown",
   "id": "160a128b",
   "metadata": {},
   "source": [
    "# (6) Prepare for training"
   ]
  },
  {
   "cell_type": "code",
   "execution_count": 59,
   "id": "02143dc6",
   "metadata": {},
   "outputs": [],
   "source": [
    "class ModelCheckpointCustom(tf.keras.callbacks.Callback):\n",
    "    \n",
    "    def __init__(self, model_path, save_best_only=False):\n",
    "        super(ModelCheckpointCustom, self).__init__()\n",
    "         \n",
    "        self.model_path = model_path\n",
    "        self.save_best_only = save_best_only\n",
    "        self.best_val_loss = float('inf') \n",
    "\n",
    "    def on_epoch_end(self, epoch, logs=None):\n",
    "        \n",
    "        print('\\rlogs: ', logs, '\\r')\n",
    "        \n",
    "        current_val_loss = 0 if logs['val_loss'] is None else logs['val_loss']\n",
    "        \n",
    "        print('\\rcurrent_val_loss: ', current_val_loss, '\\r')\n",
    "        print('\\rsave_best_only: ', self.save_best_only, '\\r')\n",
    "        print('\\rbest_val_loss: ', self.best_val_loss, '\\r')\n",
    "        print('\\rcurrent_val_loss < best_val_loss: ', current_val_loss < self.best_val_loss, '\\r') \n",
    "        \n",
    "        if self.save_best_only and current_val_loss < self.best_val_loss:\n",
    "            print('\\rSaving weights at (save_best_only=True): ', self.model_path, '\\r')\n",
    "            self.best_val_loss = current_val_loss \n",
    "            self.model.save_weights(self.model_path)\n",
    "            print(\"\\rModel has been saved!\")\n",
    "        else:\n",
    "            print('\\rSaving weights at (save_best_only=False): ', self.model_path, '\\r')\n",
    "            self.model.save_weights(self.model_path) \n",
    "            print(\"\\rModel has been saved!\")\n",
    "\n",
    "save_callbacks = ModelCheckpointCustom(model_path='checkpoint/save-model/', save_best_only=True)"
   ]
  },
  {
   "cell_type": "code",
   "execution_count": 60,
   "id": "3c1396ed",
   "metadata": {},
   "outputs": [],
   "source": [
    "early_stop = tf.keras.callbacks.EarlyStopping(monitor=\"loss\", patience=7, start_from_epoch=0)"
   ]
  },
  {
   "cell_type": "markdown",
   "id": "f1f92939",
   "metadata": {},
   "source": [
    "# (7) Train the models"
   ]
  },
  {
   "cell_type": "code",
   "execution_count": null,
   "id": "13e7a30e",
   "metadata": {},
   "outputs": [
    {
     "name": "stdout",
     "output_type": "stream",
     "text": [
      "Epoch 1/200\n"
     ]
    },
    {
     "name": "stderr",
     "output_type": "stream",
     "text": [
      "2023-04-30 07:51:02.184301: I tensorflow/core/common_runtime/executor.cc:1197] [/device:CPU:0] (DEBUG INFO) Executor start aborting (this does not indicate an error and you can ignore this message): INVALID_ARGUMENT: You must feed a value for placeholder tensor 'gradients/split_2_grad/concat/split_2/split_dim' with dtype int32\n",
      "\t [[{{node gradients/split_2_grad/concat/split_2/split_dim}}]]\n",
      "2023-04-30 07:51:02.185884: I tensorflow/core/common_runtime/executor.cc:1197] [/device:CPU:0] (DEBUG INFO) Executor start aborting (this does not indicate an error and you can ignore this message): INVALID_ARGUMENT: You must feed a value for placeholder tensor 'gradients/split_grad/concat/split/split_dim' with dtype int32\n",
      "\t [[{{node gradients/split_grad/concat/split/split_dim}}]]\n",
      "2023-04-30 07:51:02.186999: I tensorflow/core/common_runtime/executor.cc:1197] [/device:CPU:0] (DEBUG INFO) Executor start aborting (this does not indicate an error and you can ignore this message): INVALID_ARGUMENT: You must feed a value for placeholder tensor 'gradients/split_1_grad/concat/split_1/split_dim' with dtype int32\n",
      "\t [[{{node gradients/split_1_grad/concat/split_1/split_dim}}]]\n",
      "2023-04-30 07:51:05.259197: I tensorflow/core/common_runtime/executor.cc:1197] [/device:CPU:0] (DEBUG INFO) Executor start aborting (this does not indicate an error and you can ignore this message): INVALID_ARGUMENT: You must feed a value for placeholder tensor 'gradients/split_2_grad/concat/split_2/split_dim' with dtype int32\n",
      "\t [[{{node gradients/split_2_grad/concat/split_2/split_dim}}]]\n",
      "2023-04-30 07:51:05.260859: I tensorflow/core/common_runtime/executor.cc:1197] [/device:CPU:0] (DEBUG INFO) Executor start aborting (this does not indicate an error and you can ignore this message): INVALID_ARGUMENT: You must feed a value for placeholder tensor 'gradients/split_grad/concat/split/split_dim' with dtype int32\n",
      "\t [[{{node gradients/split_grad/concat/split/split_dim}}]]\n",
      "2023-04-30 07:51:05.261875: I tensorflow/core/common_runtime/executor.cc:1197] [/device:CPU:0] (DEBUG INFO) Executor start aborting (this does not indicate an error and you can ignore this message): INVALID_ARGUMENT: You must feed a value for placeholder tensor 'gradients/split_1_grad/concat/split_1/split_dim' with dtype int32\n",
      "\t [[{{node gradients/split_1_grad/concat/split_1/split_dim}}]]\n",
      "2023-04-30 07:51:13.160451: I tensorflow/compiler/xla/stream_executor/cuda/cuda_dnn.cc:424] Loaded cuDNN version 8600\n",
      "2023-04-30 07:51:14.723769: I tensorflow/compiler/xla/stream_executor/cuda/cuda_blas.cc:637] TensorFloat-32 will be used for the matrix multiplication. This will only be logged once.\n",
      "2023-04-30 07:51:15.238537: I tensorflow/compiler/xla/service/service.cc:169] XLA service 0x3808b130 initialized for platform CUDA (this does not guarantee that XLA will be used). Devices:\n",
      "2023-04-30 07:51:15.238590: I tensorflow/compiler/xla/service/service.cc:177]   StreamExecutor device (0): NVIDIA GeForce RTX 3090, Compute Capability 8.6\n",
      "2023-04-30 07:51:15.248630: I tensorflow/compiler/mlir/tensorflow/utils/dump_mlir_util.cc:269] disabling MLIR crash reproducer, set env var `MLIR_CRASH_REPRODUCER_DIRECTORY` to enable.\n",
      "2023-04-30 07:51:15.371720: I ./tensorflow/compiler/jit/device_compiler.h:180] Compiled cluster using XLA!  This line is logged at most once for the lifetime of the process.\n"
     ]
    },
    {
     "name": "stdout",
     "output_type": "stream",
     "text": [
      "  161/66068 [..............................] - ETA: 6:53:41 - loss: 6.5341 - accuracy: 0.1238"
     ]
    }
   ],
   "source": [
    "history = model.fit(train, epochs=200, callbacks=[save_callbacks, early_stop])"
   ]
  },
  {
   "cell_type": "code",
   "execution_count": null,
   "id": "20195bcd",
   "metadata": {},
   "outputs": [],
   "source": []
  }
 ],
 "metadata": {
  "kernelspec": {
   "display_name": "Python 3 (ipykernel)",
   "language": "python",
   "name": "python3"
  },
  "language_info": {
   "codemirror_mode": {
    "name": "ipython",
    "version": 3
   },
   "file_extension": ".py",
   "mimetype": "text/x-python",
   "name": "python",
   "nbconvert_exporter": "python",
   "pygments_lexer": "ipython3",
   "version": "3.8.10"
  }
 },
 "nbformat": 4,
 "nbformat_minor": 5
}
